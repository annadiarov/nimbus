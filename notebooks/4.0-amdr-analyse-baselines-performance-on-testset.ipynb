{
 "cells": [
  {
   "metadata": {},
   "cell_type": "markdown",
   "source": [
    "# Processing data from wellknown tools to set pHLA binding baselines \n",
    "\n",
    "Process output files from well-known methods to set a baseline to compare with. This includes:\n",
    "- `NetMHCpan` tested on:\n",
    "    - `CD8_benchmark_filtered` (NetMHCpan original test set)\n",
    "- `MixMHCpred2.0` tested on:\n",
    "    - `CD8_benchmark_filtered` (NetMHCpan original test set. Data leakage has not been checked)\n",
    "- `MixMHCpred3.0` tested on:\n",
    "    - `CD8_benchmark_filtered` (NetMHCpan original test set. Data leakage has not been checked)"
   ],
   "id": "60e13b05d12fdcbe"
  },
  {
   "metadata": {
    "ExecuteTime": {
     "end_time": "2024-06-22T16:49:56.142563Z",
     "start_time": "2024-06-22T16:49:56.140026Z"
    }
   },
   "cell_type": "code",
   "source": [
    "import os\n",
    "import re\n",
    "import sys\n",
    "import glob\n",
    "import pandas as pd\n",
    "import seaborn as sns\n",
    "import matplotlib.pyplot as plt\n",
    "from matplotlib.colors import LogNorm"
   ],
   "id": "8ee405e98eff25e7",
   "outputs": [],
   "execution_count": 1
  },
  {
   "metadata": {
    "ExecuteTime": {
     "end_time": "2024-06-22T16:49:57.081319Z",
     "start_time": "2024-06-22T16:49:57.077278Z"
    }
   },
   "cell_type": "code",
   "source": [
    "CHECKPOINTS_DIR = '../checkpoints'\n",
    "BASELINES_DIR = os.path.join(CHECKPOINTS_DIR, 'baselines')\n",
    "NETMHCPAN_BASELINE_DIR = os.path.join(BASELINES_DIR, 'netmhcpan41')\n",
    "MIXMHCPRED22_BASELINE_DIR = os.path.join(BASELINES_DIR, 'mixmhcpred22')\n",
    "MIXMHCPRED3_BASELINE_DIR = os.path.join(BASELINES_DIR, 'mixmhcpred3')\n",
    "RAW_NETMHCPAN_CD8_BENCHMARK_DIR = os.path.join(NETMHCPAN_BASELINE_DIR, 'CD8_benchmark_filtered_outs')\n",
    "RAW_MIXMHCPRED22_CD8_BENCHMARK_DIR = os.path.join(MIXMHCPRED22_BASELINE_DIR, 'CD8_benchmark_filtered_out')\n",
    "RAW_MIXMHCPRED3_CD8_BENCHMARK_DIR = os.path.join(MIXMHCPRED3_BASELINE_DIR, 'CD8_benchmark_filtered_out')\n",
    "out_merged_netmhcpan_cd8_benchmark_file = os.path.join(NETMHCPAN_BASELINE_DIR, 'CD8_benchmark_filtered_outs.csv.gz')\n",
    "out_merged_mixmhcpan22_cd8_benchmark_file = os.path.join(MIXMHCPRED22_BASELINE_DIR, 'CD8_benchmark_filtered_outs.csv.gz')\n",
    "out_merged_mixmhcpan3_cd8_benchmark_file = os.path.join(MIXMHCPRED3_BASELINE_DIR, 'CD8_benchmark_filtered_outs.csv.gz')"
   ],
   "id": "6cac57c53ca5417",
   "outputs": [],
   "execution_count": 2
  },
  {
   "metadata": {
    "ExecuteTime": {
     "end_time": "2024-06-22T16:49:58.859538Z",
     "start_time": "2024-06-22T16:49:58.855631Z"
    }
   },
   "cell_type": "code",
   "source": [
    "def parse_netmhcpan_output_to_df(file_path):\n",
    "    # Read the file\n",
    "    with open(file_path, 'r') as file:\n",
    "        data = file.read()\n",
    "    \n",
    "    # Split the data into lines and remove headers\n",
    "    lines = data.strip().split('\\n')[48:]\n",
    "    \n",
    "    # Define column names\n",
    "    columns = [\"Pos\", \"MHC\", \"Peptide\", \"Core\", \"Of\", \"Gp\", \"Gl\", \"Ip\", \"Il\", \"Icore\", \"Identity\", \"Score_EL\", \"%Rank_EL\", \"Exp\", \"BindLevel\"]\n",
    "    \n",
    "    # Parse each line into a list of values\n",
    "    parsed_data = []\n",
    "    for line in lines:\n",
    "        # Use regex to handle the fixed-width format\n",
    "        match = re.match(r'(\\s*\\d+)\\s+(\\S+)\\s+(\\S+)\\s+(\\S+)\\s+(\\d+)\\s+(\\d+)\\s+(\\d+)\\s+(\\d+)\\s+(\\d+)\\s+(\\S+)\\s+(\\S*)\\s+([\\d.]+)\\s+([\\d.]+)\\s+([\\d.]+)(.*)', line)\n",
    "        if match:\n",
    "            parsed_data.append(match.groups())\n",
    "    \n",
    "    # Create DataFrame\n",
    "    df = pd.DataFrame(parsed_data, columns=columns)\n",
    "    \n",
    "    return df"
   ],
   "id": "2010e205d018b032",
   "outputs": [],
   "execution_count": 3
  },
  {
   "metadata": {
    "ExecuteTime": {
     "end_time": "2024-06-22T16:50:37.487539Z",
     "start_time": "2024-06-22T16:50:37.484588Z"
    }
   },
   "cell_type": "code",
   "source": [
    "def parse_mixmhcpan_output_to_df(file_path, rank_threshold_percentage=2, is_cd8=True):\n",
    "    df = pd.read_csv(file_path, sep='\\t', comment='#')\n",
    "    # Add label column. If %Rank_bestAllele is below the threshold, it is a binder\n",
    "    df['pred_is_binder'] = df['%Rank_bestAllele'] < rank_threshold_percentage\n",
    "    # Add experimental binding\n",
    "    if is_cd8:\n",
    "        # CD8 benchmark has only one binder per peptide and it's the last one in the file\n",
    "        df['is_binder'] = 0\n",
    "        df.loc[df.shape[0]-1, 'is_binder'] = 1\n",
    "    else:\n",
    "        raise NotImplementedError('Only CD8 benchmark is supported for now')\n",
    "        \n",
    "    return df[['Peptide', 'Score_bestAllele', 'BestAllele', 'pred_is_binder', 'is_binder']]"
   ],
   "id": "6463935b28f59fc8",
   "outputs": [],
   "execution_count": 5
  },
  {
   "metadata": {},
   "cell_type": "markdown",
   "source": [
    "## CD8 benchmark\n",
    "\n",
    "### NetMHCPan2.2\n",
    "#### Processing (only run once)\n",
    "The dir has 1600 files, each file contains a set of peptides (with only one binder) for a specific HLA allele. "
   ],
   "id": "220f4687eafc2304"
  },
  {
   "metadata": {
    "ExecuteTime": {
     "end_time": "2024-06-11T22:05:13.454413Z",
     "start_time": "2024-06-11T21:59:44.239739Z"
    }
   },
   "cell_type": "code",
   "source": [
    "# raw_cd8_netmhcpan_outfiles = glob.glob(os.path.join(RAW_NETMHCPAN_CD8_BENCHMARK_DIR, '*.out'))\n",
    "# \n",
    "# # merge all files into a single dataframe\n",
    "# dfs = []\n",
    "# for file in raw_cd8_netmhcpan_outfiles:\n",
    "#     df = parse_netmhcpan_output_to_df(file)\n",
    "#     dfs.append(df)\n",
    "#     \n",
    "# cd8_netmhcpan_df = pd.concat(dfs)\n",
    "# # replace bind level to 1 if SB, 0.5 if WB, 0 if NB (empty)\n",
    "# cd8_netmhcpan_df['BindLevel'] = cd8_netmhcpan_df['BindLevel'].replace({' <= SB': 1, ' <= WB': 0.5, '': 0})\n",
    "# # save relevant columns\n",
    "# cd8_netmhcpan_df = cd8_netmhcpan_df[['MHC', 'Peptide', 'Score_EL', '%Rank_EL', 'Exp', 'BindLevel']]\n",
    "# cd8_netmhcpan_df['Exp'] = cd8_netmhcpan_df['Exp'].astype(float)\n",
    "# cd8_netmhcpan_df.to_csv(out_merged_netmhcpan_cd8_benchmark_file, index=False)"
   ],
   "id": "a9d3b975b42fb2c4",
   "outputs": [
    {
     "name": "stderr",
     "output_type": "stream",
     "text": [
      "/tmp/ipykernel_15039/2744432468.py:9: FutureWarning: Downcasting behavior in `replace` is deprecated and will be removed in a future version. To retain the old behavior, explicitly call `result.infer_objects(copy=False)`. To opt-in to the future behavior, set `pd.set_option('future.no_silent_downcasting', True)`\n",
      "  cd8_netmhcpan_df['BindLevel'] = cd8_netmhcpan_df['BindLevel'].replace({' <= SB': 1, ' <= WB': 0.5, '': 0})\n"
     ]
    }
   ],
   "execution_count": 5
  },
  {
   "metadata": {
    "ExecuteTime": {
     "end_time": "2024-06-11T22:05:13.475964Z",
     "start_time": "2024-06-11T22:05:13.456429Z"
    }
   },
   "cell_type": "code",
   "source": "# cd8_netmhcpan_df.head()",
   "id": "37d26c4e35276072",
   "outputs": [
    {
     "data": {
      "text/plain": [
       "           MHC   Peptide   Score_EL %Rank_EL      Exp  BindLevel\n",
       "0  HLA-A*02:01  MSHVVVKN  0.0000030   87.500  0.00000        0.0\n",
       "1  HLA-A*02:01  SHVVVKND  0.0000000  100.000  0.00000        0.0\n",
       "2  HLA-A*02:01  HVVVKNDP  0.0000070   78.333  0.00000        0.0\n",
       "3  HLA-A*02:01  VVVKNDPE  0.0000120   71.250  0.00000        0.0\n",
       "4  HLA-A*02:01  VVKNDPEL  0.0015740   14.932  0.00000        0.0"
      ],
      "text/html": [
       "<div>\n",
       "<style scoped>\n",
       "    .dataframe tbody tr th:only-of-type {\n",
       "        vertical-align: middle;\n",
       "    }\n",
       "\n",
       "    .dataframe tbody tr th {\n",
       "        vertical-align: top;\n",
       "    }\n",
       "\n",
       "    .dataframe thead th {\n",
       "        text-align: right;\n",
       "    }\n",
       "</style>\n",
       "<table border=\"1\" class=\"dataframe\">\n",
       "  <thead>\n",
       "    <tr style=\"text-align: right;\">\n",
       "      <th></th>\n",
       "      <th>MHC</th>\n",
       "      <th>Peptide</th>\n",
       "      <th>Score_EL</th>\n",
       "      <th>%Rank_EL</th>\n",
       "      <th>Exp</th>\n",
       "      <th>BindLevel</th>\n",
       "    </tr>\n",
       "  </thead>\n",
       "  <tbody>\n",
       "    <tr>\n",
       "      <th>0</th>\n",
       "      <td>HLA-A*02:01</td>\n",
       "      <td>MSHVVVKN</td>\n",
       "      <td>0.0000030</td>\n",
       "      <td>87.500</td>\n",
       "      <td>0.00000</td>\n",
       "      <td>0.0</td>\n",
       "    </tr>\n",
       "    <tr>\n",
       "      <th>1</th>\n",
       "      <td>HLA-A*02:01</td>\n",
       "      <td>SHVVVKND</td>\n",
       "      <td>0.0000000</td>\n",
       "      <td>100.000</td>\n",
       "      <td>0.00000</td>\n",
       "      <td>0.0</td>\n",
       "    </tr>\n",
       "    <tr>\n",
       "      <th>2</th>\n",
       "      <td>HLA-A*02:01</td>\n",
       "      <td>HVVVKNDP</td>\n",
       "      <td>0.0000070</td>\n",
       "      <td>78.333</td>\n",
       "      <td>0.00000</td>\n",
       "      <td>0.0</td>\n",
       "    </tr>\n",
       "    <tr>\n",
       "      <th>3</th>\n",
       "      <td>HLA-A*02:01</td>\n",
       "      <td>VVVKNDPE</td>\n",
       "      <td>0.0000120</td>\n",
       "      <td>71.250</td>\n",
       "      <td>0.00000</td>\n",
       "      <td>0.0</td>\n",
       "    </tr>\n",
       "    <tr>\n",
       "      <th>4</th>\n",
       "      <td>HLA-A*02:01</td>\n",
       "      <td>VVKNDPEL</td>\n",
       "      <td>0.0015740</td>\n",
       "      <td>14.932</td>\n",
       "      <td>0.00000</td>\n",
       "      <td>0.0</td>\n",
       "    </tr>\n",
       "  </tbody>\n",
       "</table>\n",
       "</div>"
      ]
     },
     "execution_count": 6,
     "metadata": {},
     "output_type": "execute_result"
    }
   ],
   "execution_count": 6
  },
  {
   "metadata": {},
   "cell_type": "markdown",
   "source": "#### CD8 benchmark load and evaluation",
   "id": "ac7690dfb3e9dcfe"
  },
  {
   "metadata": {
    "ExecuteTime": {
     "end_time": "2024-06-22T16:59:32.898549Z",
     "start_time": "2024-06-22T16:59:24.287746Z"
    }
   },
   "cell_type": "code",
   "source": [
    "cd8_netmhcpan_df = pd.read_csv(out_merged_netmhcpan_cd8_benchmark_file)\n",
    "cd8_netmhcpan_df.head()"
   ],
   "id": "c48db55b362c3aac",
   "outputs": [
    {
     "data": {
      "text/plain": [
       "           MHC   Peptide  Score_EL  %Rank_EL  Exp  BindLevel\n",
       "0  HLA-A*02:01  MSHVVVKN  0.000003    87.500  0.0        0.0\n",
       "1  HLA-A*02:01  SHVVVKND  0.000000   100.000  0.0        0.0\n",
       "2  HLA-A*02:01  HVVVKNDP  0.000007    78.333  0.0        0.0\n",
       "3  HLA-A*02:01  VVVKNDPE  0.000012    71.250  0.0        0.0\n",
       "4  HLA-A*02:01  VVKNDPEL  0.001574    14.932  0.0        0.0"
      ],
      "text/html": [
       "<div>\n",
       "<style scoped>\n",
       "    .dataframe tbody tr th:only-of-type {\n",
       "        vertical-align: middle;\n",
       "    }\n",
       "\n",
       "    .dataframe tbody tr th {\n",
       "        vertical-align: top;\n",
       "    }\n",
       "\n",
       "    .dataframe thead th {\n",
       "        text-align: right;\n",
       "    }\n",
       "</style>\n",
       "<table border=\"1\" class=\"dataframe\">\n",
       "  <thead>\n",
       "    <tr style=\"text-align: right;\">\n",
       "      <th></th>\n",
       "      <th>MHC</th>\n",
       "      <th>Peptide</th>\n",
       "      <th>Score_EL</th>\n",
       "      <th>%Rank_EL</th>\n",
       "      <th>Exp</th>\n",
       "      <th>BindLevel</th>\n",
       "    </tr>\n",
       "  </thead>\n",
       "  <tbody>\n",
       "    <tr>\n",
       "      <th>0</th>\n",
       "      <td>HLA-A*02:01</td>\n",
       "      <td>MSHVVVKN</td>\n",
       "      <td>0.000003</td>\n",
       "      <td>87.500</td>\n",
       "      <td>0.0</td>\n",
       "      <td>0.0</td>\n",
       "    </tr>\n",
       "    <tr>\n",
       "      <th>1</th>\n",
       "      <td>HLA-A*02:01</td>\n",
       "      <td>SHVVVKND</td>\n",
       "      <td>0.000000</td>\n",
       "      <td>100.000</td>\n",
       "      <td>0.0</td>\n",
       "      <td>0.0</td>\n",
       "    </tr>\n",
       "    <tr>\n",
       "      <th>2</th>\n",
       "      <td>HLA-A*02:01</td>\n",
       "      <td>HVVVKNDP</td>\n",
       "      <td>0.000007</td>\n",
       "      <td>78.333</td>\n",
       "      <td>0.0</td>\n",
       "      <td>0.0</td>\n",
       "    </tr>\n",
       "    <tr>\n",
       "      <th>3</th>\n",
       "      <td>HLA-A*02:01</td>\n",
       "      <td>VVVKNDPE</td>\n",
       "      <td>0.000012</td>\n",
       "      <td>71.250</td>\n",
       "      <td>0.0</td>\n",
       "      <td>0.0</td>\n",
       "    </tr>\n",
       "    <tr>\n",
       "      <th>4</th>\n",
       "      <td>HLA-A*02:01</td>\n",
       "      <td>VVKNDPEL</td>\n",
       "      <td>0.001574</td>\n",
       "      <td>14.932</td>\n",
       "      <td>0.0</td>\n",
       "      <td>0.0</td>\n",
       "    </tr>\n",
       "  </tbody>\n",
       "</table>\n",
       "</div>"
      ]
     },
     "execution_count": 12,
     "metadata": {},
     "output_type": "execute_result"
    }
   ],
   "execution_count": 12
  },
  {
   "metadata": {
    "ExecuteTime": {
     "end_time": "2024-06-12T08:34:53.552066Z",
     "start_time": "2024-06-12T08:34:42.417478Z"
    }
   },
   "cell_type": "code",
   "source": [
    "# compute roc auc\n",
    "from sklearn.metrics import roc_auc_score\n",
    "roc_auc_score(cd8_netmhcpan_df['Exp'], cd8_netmhcpan_df['Score_EL'])"
   ],
   "id": "4d845cb3d7abf9d",
   "outputs": [
    {
     "data": {
      "text/plain": [
       "0.9889863702709146"
      ]
     },
     "execution_count": 4,
     "metadata": {},
     "output_type": "execute_result"
    }
   ],
   "execution_count": 4
  },
  {
   "metadata": {
    "ExecuteTime": {
     "end_time": "2024-06-22T16:59:52.179315Z",
     "start_time": "2024-06-22T16:59:45.103580Z"
    }
   },
   "cell_type": "code",
   "source": [
    "# compute confusion matrix\n",
    "from sklearn.metrics import confusion_matrix\n",
    "cm_rank_swb = confusion_matrix(\n",
    "    cd8_netmhcpan_df['Exp'],\n",
    "    cd8_netmhcpan_df['BindLevel'] > 0.4  # 0.4 is the threshold to include WB and SB\n",
    ")\n",
    "cm_rank_swb"
   ],
   "id": "41b36e47be7d078d",
   "outputs": [
    {
     "data": {
      "text/plain": [
       "array([[11043594,   163065],\n",
       "       [     314,     1267]])"
      ]
     },
     "execution_count": 13,
     "metadata": {},
     "output_type": "execute_result"
    }
   ],
   "execution_count": 13
  },
  {
   "metadata": {
    "ExecuteTime": {
     "end_time": "2024-06-22T17:00:00.164770Z",
     "start_time": "2024-06-22T16:59:52.336196Z"
    }
   },
   "cell_type": "code",
   "source": [
    "cm_rank_sb = confusion_matrix(\n",
    "    cd8_netmhcpan_df['Exp'],\n",
    "    cd8_netmhcpan_df['BindLevel'] > 0.6 # 0.6 is the threshold to NOT include WB (SB only)\n",
    ")\n",
    "cm_rank_sb"
   ],
   "id": "6d94f89a29384b3e",
   "outputs": [
    {
     "data": {
      "text/plain": [
       "array([[11167109,    39550],\n",
       "       [     677,      904]])"
      ]
     },
     "execution_count": 14,
     "metadata": {},
     "output_type": "execute_result"
    }
   ],
   "execution_count": 14
  },
  {
   "metadata": {
    "ExecuteTime": {
     "end_time": "2024-06-22T17:00:07.160814Z",
     "start_time": "2024-06-22T17:00:00.280626Z"
    }
   },
   "cell_type": "code",
   "source": [
    "cm_el_score = confusion_matrix(\n",
    "    cd8_netmhcpan_df['Exp'],\n",
    "    cd8_netmhcpan_df['Score_EL'] > 0.5\n",
    ")\n",
    "cm_el_score"
   ],
   "id": "a27101a5355eb3fe",
   "outputs": [
    {
     "data": {
      "text/plain": [
       "array([[11177308,    29351],\n",
       "       [     791,      790]])"
      ]
     },
     "execution_count": 15,
     "metadata": {},
     "output_type": "execute_result"
    }
   ],
   "execution_count": 15
  },
  {
   "metadata": {
    "ExecuteTime": {
     "end_time": "2024-06-22T17:00:08.122108Z",
     "start_time": "2024-06-22T17:00:07.162147Z"
    }
   },
   "cell_type": "code",
   "source": [
    "# plot the three confusion matrices\n",
    "\n",
    "fig, axs = plt.subplots(1, 3, figsize=(18, 6))\n",
    "sns.heatmap(cm_el_score, annot=True, fmt='d', ax=axs[2], cmap='Blues', norm=LogNorm())\n",
    "axs[0].set_title('EL Score > 0.5')\n",
    "sns.heatmap(cm_rank_sb, annot=True, fmt='d', ax=axs[1], cmap='Blues', norm=LogNorm())\n",
    "axs[1].set_title('Rank only SB (% Rank < Top 0.5 %)')\n",
    "sns.heatmap(cm_rank_swb, annot=True, fmt='d', ax=axs[0], cmap='Blues', norm=LogNorm())\n",
    "axs[2].set_title('Rank SB and WB (% Rank < Top 2 %)')\n",
    "\n",
    "for i in range(3):\n",
    "    axs[i].set_xlabel('Predicted label')\n",
    "    axs[i].set_ylabel('True label')\n",
    "\n",
    "plt.show()"
   ],
   "id": "878331998b81819c",
   "outputs": [
    {
     "data": {
      "text/plain": [
       "<Figure size 1800x600 with 6 Axes>"
      ],
      "image/png": "[encoded data removed]"
     },
     "metadata": {},
     "output_type": "display_data"
    }
   ],
   "execution_count": 16
  },
  {
   "metadata": {},
   "cell_type": "markdown",
   "source": [
    "### MixMHCpred2.2\n",
    "#### Processing (only run once)"
   ],
   "id": "f2859e7da21ec982"
  },
  {
   "metadata": {
    "ExecuteTime": {
     "end_time": "2024-06-22T16:51:59.240985Z",
     "start_time": "2024-06-22T16:50:47.872263Z"
    }
   },
   "cell_type": "code",
   "source": [
    "# raw_cd8_mixmhcpan22_outfiles = glob.glob(os.path.join(RAW_MIXMHCPRED22_CD8_BENCHMARK_DIR, '*.out'))\n",
    "# # merge all files into a single dataframe\n",
    "# dfs = []\n",
    "# for file in raw_cd8_mixmhcpan22_outfiles:\n",
    "#     try:\n",
    "#         df = parse_mixmhcpan_output_to_df(file)\n",
    "#         dfs.append(df)\n",
    "#     except pd.errors.EmptyDataError:\n",
    "#         print(f'Empty file: {file}')\n",
    "#         sys.exit(1)\n",
    "#     \n",
    "# cd8_mixmhcpan22_df = pd.concat(dfs)\n",
    "# cd8_mixmhcpan22_df.to_csv(out_merged_mixmhcpan22_cd8_benchmark_file, index=False)"
   ],
   "id": "89f0c958e0accea8",
   "outputs": [],
   "execution_count": 6
  },
  {
   "metadata": {},
   "cell_type": "markdown",
   "source": "#### CD8 benchmark load and evaluation",
   "id": "477f2069bdead21f"
  },
  {
   "metadata": {
    "ExecuteTime": {
     "end_time": "2024-06-22T16:52:05.143052Z",
     "start_time": "2024-06-22T16:51:59.241863Z"
    }
   },
   "cell_type": "code",
   "source": [
    "cd8_mixmhcpan22_df = pd.read_csv(out_merged_mixmhcpan22_cd8_benchmark_file)\n",
    "cd8_mixmhcpan22_df.head()"
   ],
   "id": "634fe8b7ec65675d",
   "outputs": [
    {
     "data": {
      "text/plain": [
       "    Peptide  Score_bestAllele BestAllele  pred_is_binder  is_binder\n",
       "0  MSHVVVKN         -3.783041      A0201           False          0\n",
       "1  SHVVVKND         -3.981264      A0201           False          0\n",
       "2  HVVVKNDP         -4.097728      A0201           False          0\n",
       "3  VVVKNDPE         -3.930018      A0201           False          0\n",
       "4  VVKNDPEL         -2.274718      A0201           False          0"
      ],
      "text/html": [
       "<div>\n",
       "<style scoped>\n",
       "    .dataframe tbody tr th:only-of-type {\n",
       "        vertical-align: middle;\n",
       "    }\n",
       "\n",
       "    .dataframe tbody tr th {\n",
       "        vertical-align: top;\n",
       "    }\n",
       "\n",
       "    .dataframe thead th {\n",
       "        text-align: right;\n",
       "    }\n",
       "</style>\n",
       "<table border=\"1\" class=\"dataframe\">\n",
       "  <thead>\n",
       "    <tr style=\"text-align: right;\">\n",
       "      <th></th>\n",
       "      <th>Peptide</th>\n",
       "      <th>Score_bestAllele</th>\n",
       "      <th>BestAllele</th>\n",
       "      <th>pred_is_binder</th>\n",
       "      <th>is_binder</th>\n",
       "    </tr>\n",
       "  </thead>\n",
       "  <tbody>\n",
       "    <tr>\n",
       "      <th>0</th>\n",
       "      <td>MSHVVVKN</td>\n",
       "      <td>-3.783041</td>\n",
       "      <td>A0201</td>\n",
       "      <td>False</td>\n",
       "      <td>0</td>\n",
       "    </tr>\n",
       "    <tr>\n",
       "      <th>1</th>\n",
       "      <td>SHVVVKND</td>\n",
       "      <td>-3.981264</td>\n",
       "      <td>A0201</td>\n",
       "      <td>False</td>\n",
       "      <td>0</td>\n",
       "    </tr>\n",
       "    <tr>\n",
       "      <th>2</th>\n",
       "      <td>HVVVKNDP</td>\n",
       "      <td>-4.097728</td>\n",
       "      <td>A0201</td>\n",
       "      <td>False</td>\n",
       "      <td>0</td>\n",
       "    </tr>\n",
       "    <tr>\n",
       "      <th>3</th>\n",
       "      <td>VVVKNDPE</td>\n",
       "      <td>-3.930018</td>\n",
       "      <td>A0201</td>\n",
       "      <td>False</td>\n",
       "      <td>0</td>\n",
       "    </tr>\n",
       "    <tr>\n",
       "      <th>4</th>\n",
       "      <td>VVKNDPEL</td>\n",
       "      <td>-2.274718</td>\n",
       "      <td>A0201</td>\n",
       "      <td>False</td>\n",
       "      <td>0</td>\n",
       "    </tr>\n",
       "  </tbody>\n",
       "</table>\n",
       "</div>"
      ]
     },
     "execution_count": 7,
     "metadata": {},
     "output_type": "execute_result"
    }
   ],
   "execution_count": 7
  },
  {
   "metadata": {
    "ExecuteTime": {
     "end_time": "2024-06-22T16:52:45.922829Z",
     "start_time": "2024-06-22T16:52:40.542133Z"
    }
   },
   "cell_type": "code",
   "source": [
    "# compute roc auc\n",
    "from sklearn.metrics import roc_auc_score\n",
    "\n",
    "roc_auc_score(cd8_mixmhcpan22_df['is_binder'], cd8_mixmhcpan22_df['Score_bestAllele'])"
   ],
   "id": "cf39e55f2333de9e",
   "outputs": [
    {
     "data": {
      "text/plain": [
       "0.9847070964134557"
      ]
     },
     "execution_count": 8,
     "metadata": {},
     "output_type": "execute_result"
    }
   ],
   "execution_count": 8
  },
  {
   "metadata": {},
   "cell_type": "markdown",
   "source": [
    "### MixMHCpred3\n",
    "#### Processing (only run once)"
   ],
   "id": "fb9841b0e8a51e8d"
  },
  {
   "metadata": {
    "ExecuteTime": {
     "end_time": "2024-06-22T16:58:37.691602Z",
     "start_time": "2024-06-22T16:57:34.458298Z"
    }
   },
   "cell_type": "code",
   "source": [
    "# raw_cd8_mixmhcpan3_outfiles = glob.glob(os.path.join(RAW_MIXMHCPRED3_CD8_BENCHMARK_DIR, '*.out'))\n",
    "# # merge all files into a single dataframe\n",
    "# dfs = []\n",
    "# for file in raw_cd8_mixmhcpan3_outfiles:\n",
    "#     try:\n",
    "#         df = parse_mixmhcpan_output_to_df(file)\n",
    "#         dfs.append(df)\n",
    "#     except pd.errors.EmptyDataError:\n",
    "#         print(f'Empty file: {file}')\n",
    "#         sys.exit(1)\n",
    "#         \n",
    "# cd8_mixmhcpan3_df = pd.concat(dfs)\n",
    "# cd8_mixmhcpan3_df.to_csv(out_merged_mixmhcpan3_cd8_benchmark_file, index=False)"
   ],
   "id": "8222bae9250507ed",
   "outputs": [],
   "execution_count": 9
  },
  {
   "metadata": {},
   "cell_type": "markdown",
   "source": "#### CD8 benchmark load and evaluation",
   "id": "2a3c20ec7252013d"
  },
  {
   "metadata": {
    "ExecuteTime": {
     "end_time": "2024-06-22T16:58:46.519453Z",
     "start_time": "2024-06-22T16:58:37.692638Z"
    }
   },
   "cell_type": "code",
   "source": [
    "cd8_mixmhcpan3_df = pd.read_csv(out_merged_mixmhcpan3_cd8_benchmark_file)\n",
    "cd8_mixmhcpan3_df.head()"
   ],
   "id": "ef54948065ddcec6",
   "outputs": [
    {
     "data": {
      "text/plain": [
       "    Peptide  Score_bestAllele BestAllele  pred_is_binder  is_binder\n",
       "0  MSHVVVKN         -3.560571      A0201           False          0\n",
       "1  SHVVVKND         -3.741419      A0201           False          0\n",
       "2  HVVVKNDP         -3.966740      A0201           False          0\n",
       "3  VVVKNDPE         -3.628048      A0201           False          0\n",
       "4  VVKNDPEL         -1.958715      A0201           False          0"
      ],
      "text/html": [
       "<div>\n",
       "<style scoped>\n",
       "    .dataframe tbody tr th:only-of-type {\n",
       "        vertical-align: middle;\n",
       "    }\n",
       "\n",
       "    .dataframe tbody tr th {\n",
       "        vertical-align: top;\n",
       "    }\n",
       "\n",
       "    .dataframe thead th {\n",
       "        text-align: right;\n",
       "    }\n",
       "</style>\n",
       "<table border=\"1\" class=\"dataframe\">\n",
       "  <thead>\n",
       "    <tr style=\"text-align: right;\">\n",
       "      <th></th>\n",
       "      <th>Peptide</th>\n",
       "      <th>Score_bestAllele</th>\n",
       "      <th>BestAllele</th>\n",
       "      <th>pred_is_binder</th>\n",
       "      <th>is_binder</th>\n",
       "    </tr>\n",
       "  </thead>\n",
       "  <tbody>\n",
       "    <tr>\n",
       "      <th>0</th>\n",
       "      <td>MSHVVVKN</td>\n",
       "      <td>-3.560571</td>\n",
       "      <td>A0201</td>\n",
       "      <td>False</td>\n",
       "      <td>0</td>\n",
       "    </tr>\n",
       "    <tr>\n",
       "      <th>1</th>\n",
       "      <td>SHVVVKND</td>\n",
       "      <td>-3.741419</td>\n",
       "      <td>A0201</td>\n",
       "      <td>False</td>\n",
       "      <td>0</td>\n",
       "    </tr>\n",
       "    <tr>\n",
       "      <th>2</th>\n",
       "      <td>HVVVKNDP</td>\n",
       "      <td>-3.966740</td>\n",
       "      <td>A0201</td>\n",
       "      <td>False</td>\n",
       "      <td>0</td>\n",
       "    </tr>\n",
       "    <tr>\n",
       "      <th>3</th>\n",
       "      <td>VVVKNDPE</td>\n",
       "      <td>-3.628048</td>\n",
       "      <td>A0201</td>\n",
       "      <td>False</td>\n",
       "      <td>0</td>\n",
       "    </tr>\n",
       "    <tr>\n",
       "      <th>4</th>\n",
       "      <td>VVKNDPEL</td>\n",
       "      <td>-1.958715</td>\n",
       "      <td>A0201</td>\n",
       "      <td>False</td>\n",
       "      <td>0</td>\n",
       "    </tr>\n",
       "  </tbody>\n",
       "</table>\n",
       "</div>"
      ]
     },
     "execution_count": 10,
     "metadata": {},
     "output_type": "execute_result"
    }
   ],
   "execution_count": 10
  },
  {
   "metadata": {
    "ExecuteTime": {
     "end_time": "2024-06-22T16:58:53.471379Z",
     "start_time": "2024-06-22T16:58:46.520589Z"
    }
   },
   "cell_type": "code",
   "source": [
    "# compute roc auc\n",
    "roc_auc_score(cd8_mixmhcpan3_df['is_binder'], cd8_mixmhcpan3_df['Score_bestAllele'])"
   ],
   "id": "570dd48b9cd5a05c",
   "outputs": [
    {
     "data": {
      "text/plain": [
       "0.9847506917676884"
      ]
     },
     "execution_count": 11,
     "metadata": {},
     "output_type": "execute_result"
    }
   ],
   "execution_count": 11
  },
  {
   "metadata": {},
   "cell_type": "markdown",
   "source": "",
   "id": "55a0f0bf5e48e936"
  }
 ],
 "metadata": {
  "kernelspec": {
   "display_name": "Python 3",
   "language": "python",
   "name": "python3"
  },
  "language_info": {
   "codemirror_mode": {
    "name": "ipython",
    "version": 2
   },
   "file_extension": ".py",
   "mimetype": "text/x-python",
   "name": "python",
   "nbconvert_exporter": "python",
   "pygments_lexer": "ipython2",
   "version": "2.7.6"
  }
 },
 "nbformat": 4,
 "nbformat_minor": 5
}
