{
 "cells": [
  {
   "metadata": {},
   "cell_type": "markdown",
   "source": [
    "# Process immunogenicity data\n",
    "\n",
    "We will process immunogenicity training data from the following papers:\n",
    "- Prime 2.0\n",
    "\n",
    "The processed data will be saved in the `processed/immunogenicity` directory.\n",
    "\n",
    "### Data processing steps\n",
    "- Only use HLA class I (genes A, B and C)\n",
    "- Normalize HLA alleles names to HLA-A02-01 format\n",
    "- Compute data splits\n",
    "- Transform the data to have the following columns: `peptide, is_mono_allelic, hla_allele, label, split`"
   ],
   "id": "75db12fa3c00f050"
  },
  {
   "metadata": {
    "ExecuteTime": {
     "end_time": "2024-06-17T12:31:16.992029Z",
     "start_time": "2024-06-17T12:31:16.988250Z"
    }
   },
   "cell_type": "code",
   "source": [
    "import os\n",
    "import random\n",
    "import pandas as pd\n",
    "from tqdm import tqdm\n",
    "from collections import defaultdict"
   ],
   "id": "690b4e771db5295c",
   "outputs": [],
   "execution_count": 1
  },
  {
   "metadata": {
    "ExecuteTime": {
     "end_time": "2024-06-17T12:31:16.999171Z",
     "start_time": "2024-06-17T12:31:16.992651Z"
    }
   },
   "cell_type": "code",
   "source": [
    "DATA_DIR = '../data'\n",
    "RAW_DATA_DIR = os.path.join(DATA_DIR, 'raw')\n",
    "INTERIM_DATA_DIR = os.path.join(DATA_DIR, 'interim')\n",
    "PROCESSED_DATA_DIR = os.path.join(DATA_DIR, 'processed')\n",
    "RAW_IMMUNOGENICITY_DATA_DIR = os.path.join(RAW_DATA_DIR, 'pHLA_immunogenicity')\n",
    "INTERIM_IMMUNOGENICITY_DATA_DIR = os.path.join(INTERIM_DATA_DIR, 'pHLA_immunogenicity')\n",
    "PROCESSED_IMMUNOGENICITY_DATA_DIR = os.path.join(PROCESSED_DATA_DIR, 'immunogenicity')\n",
    "\n",
    "os.makedirs(INTERIM_IMMUNOGENICITY_DATA_DIR, exist_ok=True)\n",
    "os.makedirs(PROCESSED_IMMUNOGENICITY_DATA_DIR, exist_ok=True)"
   ],
   "id": "d8d618420a7366fd",
   "outputs": [],
   "execution_count": 2
  },
  {
   "metadata": {},
   "cell_type": "markdown",
   "source": [
    "### Functions to process data\n",
    "\n",
    "Copied from this notebook `2.1-amdr-cross-validation-splits-based-on-hobohom.ipynb`"
   ],
   "id": "cb3c9c23e84c7fc2"
  },
  {
   "metadata": {
    "ExecuteTime": {
     "end_time": "2024-06-17T12:31:17.009097Z",
     "start_time": "2024-06-17T12:31:16.999988Z"
    }
   },
   "cell_type": "code",
   "source": [
    "def find_kmers(seq: str, k: int) -> set[str]:\n",
    "    \"\"\"\n",
    "    Returns a set of all k-mers (contiguous substrings of length k) in a given sequence.\n",
    "    \"\"\"\n",
    "    kmers = set()\n",
    "    for i in range(len(seq) - k + 1):\n",
    "        kmers.add(seq[i:i+k])\n",
    "    return kmers\n",
    "\n",
    "\n",
    "def has_common_kmer(seq1, seq2, k):\n",
    "    \"\"\"\n",
    "    Checks if two sequences share a common k-mer.\n",
    "    \"\"\"\n",
    "    kmers1 = find_kmers(seq1, k)\n",
    "    kmers2 = find_kmers(seq2, k)\n",
    "    return bool(kmers1.intersection(kmers2))\n",
    "\n",
    "\n",
    "def split_common_motif(uniq_sequences, num_folds=5, seed_kmer=5, redundant_kmer=5, balance_splits=False, all_peptides_df=None, rand_seed=42):\n",
    "    \"\"\"\n",
    "    Splits a list of sequences into non-redundant cross-validation folds using\n",
    "    the \"common-motif\" procedure.\n",
    "    \"\"\"\n",
    "    # Find seed sequences with no common seed_kmer\n",
    "    # The bigger the seed_kmer, the more seeds you'll obtain and, \n",
    "    #  probably the more similar the seed sequences will be between them\n",
    "    seed_sequences = []\n",
    "    print(f'Finding seed sequences of len {seed_kmer}...')\n",
    "    for seq in tqdm(uniq_sequences):\n",
    "        is_seed = True\n",
    "        for seed in seed_sequences:\n",
    "            if has_common_kmer(seq, seed, seed_kmer):\n",
    "                is_seed = False\n",
    "                break\n",
    "        if is_seed:\n",
    "            seed_sequences.append(seq)\n",
    "    print(f'Found {len(seed_sequences)} seed sequences.')\n",
    "    \n",
    "    # Assign remaining sequences to each seed. Make a dictionary of seed with all the sequences that includes it\n",
    "    seed_to_sequences = defaultdict(list)\n",
    "    assigned_sequences = set()  # To track assigned sequences\n",
    "    print(f'Assigning sequences to seeds with redundant kmer {redundant_kmer}...')\n",
    "    for seq in tqdm(uniq_sequences):\n",
    "        for seed in seed_sequences:\n",
    "            if has_common_kmer(seq, seed, redundant_kmer):\n",
    "                if seq not in assigned_sequences:  # Ensure each sequence is only assigned once\n",
    "                    seed_to_sequences[seed].append(seq)\n",
    "                    assigned_sequences.add(seq)\n",
    "                break # assign to the first seed that matches\n",
    "                \n",
    "    # Assert that all peptides in seed_to_sequences are only assigned once\n",
    "    all_assigned_sequences = [seq for seq_list in seed_to_sequences.values() for seq in seq_list]\n",
    "    assert len(all_assigned_sequences) == len(set(all_assigned_sequences)), 'All peptides should only appear once in seed_to_sequences'\n",
    "    \n",
    "    if balance_splits:\n",
    "        assert all_peptides_df is not None, 'all_peptides_df should be a df with a column called peptide instead of None'\n",
    "        assert len(all_peptides_df['peptide'].unique()) == len(uniq_sequences), 'all_peptides_df should have the same number of rows as sequences'\n",
    "        print('Balancing splits')\n",
    "        # Create a dictionary for peptide counts\n",
    "        peptide_counts = all_peptides_df['peptide'].value_counts().to_dict()\n",
    "        # Assign weight to each seed according to the number of sequences assigned to it and its frequency in the dataset\n",
    "        #seed_weights = {seed: len(seq_list) * peptide_counts.get(seed, 0) for seed, seq_list in seed_to_sequences.items()}\n",
    "        # Assign weight to each seed according to the sum of the counts of all peptides in seq_list\n",
    "        seed_weights = {}\n",
    "        for seed, seq_list in seed_to_sequences.items():\n",
    "            weight = sum(peptide_counts.get(peptide, 0) for peptide in seq_list)\n",
    "            # print(f'Seed {seed} has weight {weight} with sequences {seq_list}')\n",
    "            seed_weights[seed] = weight\n",
    "        \n",
    "        # assert that all peptides only appear once in seed_to_sequences\n",
    "        \n",
    "        # Sort seeds by their weight in descending order\n",
    "        sorted_seeds = sorted(seed_weights.items(), key=lambda item: item[1], reverse=True)\n",
    "        \n",
    "        # Initialize folds\n",
    "        folds = [[] for _ in range(num_folds)]\n",
    "        fold_weights = [0] * num_folds\n",
    "        \n",
    "        # Distribute seeds to folds\n",
    "        for seed, weight in sorted_seeds:\n",
    "            # Find the fold with the minimum total weight\n",
    "            min_fold_index = fold_weights.index(min(fold_weights))\n",
    "            # Assign the seed to this fold\n",
    "            folds[min_fold_index].append(seed)\n",
    "            # Update the weight of this fold\n",
    "            fold_weights[min_fold_index] += weight\n",
    "            \n",
    "        # Collect sequences for each fold\n",
    "        final_folds = [[] for _ in range(num_folds)]\n",
    "        for fold_idx, seeds in enumerate(folds):\n",
    "            for seed in seeds:\n",
    "                final_folds[fold_idx].extend(seed_to_sequences[seed])\n",
    "        \n",
    "    else:\n",
    "        # Randomly assign seeds to folds\n",
    "        print('Randomly assign ')\n",
    "        random.seed(rand_seed)\n",
    "        random.shuffle(seed_sequences)\n",
    "        final_folds = [[] for _ in range(num_folds)]\n",
    "        for i, seed in enumerate(seed_sequences):\n",
    "            fold_idx = i % num_folds\n",
    "            final_folds[fold_idx].extend(seed_to_sequences[seed])\n",
    "            \n",
    "    # Assert that all peptides appear only once across all folds\n",
    "    all_assigned_sequences = [seq for fold in final_folds for seq in fold]\n",
    "    assert len(all_assigned_sequences) == len(set(all_assigned_sequences)), 'All peptides should only appear once across all folds'\n",
    "        \n",
    "    return final_folds\n",
    "    "
   ],
   "id": "eddf9a89a8172f15",
   "outputs": [],
   "execution_count": 3
  },
  {
   "metadata": {},
   "cell_type": "markdown",
   "source": "## Process PRIME data",
   "id": "8f939b3a25a2b0e2"
  },
  {
   "metadata": {},
   "cell_type": "markdown",
   "source": "### Process Prime 2.0 data",
   "id": "68b4dca988150236"
  },
  {
   "metadata": {
    "ExecuteTime": {
     "end_time": "2024-06-17T12:31:17.022178Z",
     "start_time": "2024-06-17T12:31:17.009779Z"
    }
   },
   "cell_type": "code",
   "source": [
    "RAW_PRIME_DATA_DIR = os.path.join(\n",
    "    RAW_IMMUNOGENICITY_DATA_DIR, 'PRIME'\n",
    ")\n",
    "INTERIM_PRIME_DATA_DIR = os.path.join(\n",
    "    INTERIM_IMMUNOGENICITY_DATA_DIR, 'PRIME'\n",
    ")\n",
    "PROCESSED_PRIME_DATA_DIR = os.path.join(\n",
    "    PROCESSED_IMMUNOGENICITY_DATA_DIR, 'PRIME'\n",
    ")\n",
    "\n",
    "train_prime2_file = os.path.join(\n",
    "    RAW_PRIME_DATA_DIR, 'train_2023_PRIME2.0.csv'\n",
    ")\n",
    "\n",
    "N_FOLDS = 5\n",
    "\n",
    "os.makedirs(INTERIM_PRIME_DATA_DIR, exist_ok=True)\n",
    "os.makedirs(PROCESSED_PRIME_DATA_DIR, exist_ok=True)"
   ],
   "id": "c408aca88d5bcef2",
   "outputs": [],
   "execution_count": 4
  },
  {
   "metadata": {
    "ExecuteTime": {
     "end_time": "2024-06-17T12:31:17.087402Z",
     "start_time": "2024-06-17T12:31:17.022809Z"
    }
   },
   "cell_type": "code",
   "source": [
    "full_train_prime2_df = pd.read_csv(train_prime2_file)\n",
    "# For debugging\n",
    "# full_train_prime2_df = pd.read_csv(train_prime2_file)[:1000]\n",
    "full_train_prime2_df.head()"
   ],
   "id": "35ffefd5036f9b4c",
   "outputs": [
    {
     "data": {
      "text/plain": [
       "       Mutant Allele  MixMHCpred  NetMHCpan  MHCflurry  HLAthena  PRIME1.0  \\\n",
       "0   VMLQAPLFT  A0201     4.44635      2.323    1.32054   8.40544    100.00   \n",
       "1   MLIVETAVM  A0201     3.50576      2.504    1.41484   8.40110    100.00   \n",
       "2  MLIVETAVML  A0201     4.63429      1.267    1.12003   3.18349    100.00   \n",
       "3  VMLQAPLFTA  A0201     1.20439      1.597    0.23345   0.76095      0.90   \n",
       "4   LLSECVHAL  A0201     0.00384      0.065    0.00168   0.18895      0.02   \n",
       "\n",
       "   Immunogenicity SourceProt  Random  \n",
       "0               0     ANKIB1       0  \n",
       "1               0     ANKIB1       0  \n",
       "2               0     ANKIB1       0  \n",
       "3               0     ANKIB1       0  \n",
       "4               0        DDO       0  "
      ],
      "text/html": [
       "<div>\n",
       "<style scoped>\n",
       "    .dataframe tbody tr th:only-of-type {\n",
       "        vertical-align: middle;\n",
       "    }\n",
       "\n",
       "    .dataframe tbody tr th {\n",
       "        vertical-align: top;\n",
       "    }\n",
       "\n",
       "    .dataframe thead th {\n",
       "        text-align: right;\n",
       "    }\n",
       "</style>\n",
       "<table border=\"1\" class=\"dataframe\">\n",
       "  <thead>\n",
       "    <tr style=\"text-align: right;\">\n",
       "      <th></th>\n",
       "      <th>Mutant</th>\n",
       "      <th>Allele</th>\n",
       "      <th>MixMHCpred</th>\n",
       "      <th>NetMHCpan</th>\n",
       "      <th>MHCflurry</th>\n",
       "      <th>HLAthena</th>\n",
       "      <th>PRIME1.0</th>\n",
       "      <th>Immunogenicity</th>\n",
       "      <th>SourceProt</th>\n",
       "      <th>Random</th>\n",
       "    </tr>\n",
       "  </thead>\n",
       "  <tbody>\n",
       "    <tr>\n",
       "      <th>0</th>\n",
       "      <td>VMLQAPLFT</td>\n",
       "      <td>A0201</td>\n",
       "      <td>4.44635</td>\n",
       "      <td>2.323</td>\n",
       "      <td>1.32054</td>\n",
       "      <td>8.40544</td>\n",
       "      <td>100.00</td>\n",
       "      <td>0</td>\n",
       "      <td>ANKIB1</td>\n",
       "      <td>0</td>\n",
       "    </tr>\n",
       "    <tr>\n",
       "      <th>1</th>\n",
       "      <td>MLIVETAVM</td>\n",
       "      <td>A0201</td>\n",
       "      <td>3.50576</td>\n",
       "      <td>2.504</td>\n",
       "      <td>1.41484</td>\n",
       "      <td>8.40110</td>\n",
       "      <td>100.00</td>\n",
       "      <td>0</td>\n",
       "      <td>ANKIB1</td>\n",
       "      <td>0</td>\n",
       "    </tr>\n",
       "    <tr>\n",
       "      <th>2</th>\n",
       "      <td>MLIVETAVML</td>\n",
       "      <td>A0201</td>\n",
       "      <td>4.63429</td>\n",
       "      <td>1.267</td>\n",
       "      <td>1.12003</td>\n",
       "      <td>3.18349</td>\n",
       "      <td>100.00</td>\n",
       "      <td>0</td>\n",
       "      <td>ANKIB1</td>\n",
       "      <td>0</td>\n",
       "    </tr>\n",
       "    <tr>\n",
       "      <th>3</th>\n",
       "      <td>VMLQAPLFTA</td>\n",
       "      <td>A0201</td>\n",
       "      <td>1.20439</td>\n",
       "      <td>1.597</td>\n",
       "      <td>0.23345</td>\n",
       "      <td>0.76095</td>\n",
       "      <td>0.90</td>\n",
       "      <td>0</td>\n",
       "      <td>ANKIB1</td>\n",
       "      <td>0</td>\n",
       "    </tr>\n",
       "    <tr>\n",
       "      <th>4</th>\n",
       "      <td>LLSECVHAL</td>\n",
       "      <td>A0201</td>\n",
       "      <td>0.00384</td>\n",
       "      <td>0.065</td>\n",
       "      <td>0.00168</td>\n",
       "      <td>0.18895</td>\n",
       "      <td>0.02</td>\n",
       "      <td>0</td>\n",
       "      <td>DDO</td>\n",
       "      <td>0</td>\n",
       "    </tr>\n",
       "  </tbody>\n",
       "</table>\n",
       "</div>"
      ]
     },
     "execution_count": 5,
     "metadata": {},
     "output_type": "execute_result"
    }
   ],
   "execution_count": 5
  },
  {
   "metadata": {
    "ExecuteTime": {
     "end_time": "2024-06-17T12:31:17.093074Z",
     "start_time": "2024-06-17T12:31:17.088060Z"
    }
   },
   "cell_type": "code",
   "source": [
    "train_prime2_df = full_train_prime2_df[['Mutant', 'Allele', 'Immunogenicity']]\n",
    "train_prime2_df.head()"
   ],
   "id": "a52357487a20933",
   "outputs": [
    {
     "data": {
      "text/plain": [
       "       Mutant Allele  Immunogenicity\n",
       "0   VMLQAPLFT  A0201               0\n",
       "1   MLIVETAVM  A0201               0\n",
       "2  MLIVETAVML  A0201               0\n",
       "3  VMLQAPLFTA  A0201               0\n",
       "4   LLSECVHAL  A0201               0"
      ],
      "text/html": [
       "<div>\n",
       "<style scoped>\n",
       "    .dataframe tbody tr th:only-of-type {\n",
       "        vertical-align: middle;\n",
       "    }\n",
       "\n",
       "    .dataframe tbody tr th {\n",
       "        vertical-align: top;\n",
       "    }\n",
       "\n",
       "    .dataframe thead th {\n",
       "        text-align: right;\n",
       "    }\n",
       "</style>\n",
       "<table border=\"1\" class=\"dataframe\">\n",
       "  <thead>\n",
       "    <tr style=\"text-align: right;\">\n",
       "      <th></th>\n",
       "      <th>Mutant</th>\n",
       "      <th>Allele</th>\n",
       "      <th>Immunogenicity</th>\n",
       "    </tr>\n",
       "  </thead>\n",
       "  <tbody>\n",
       "    <tr>\n",
       "      <th>0</th>\n",
       "      <td>VMLQAPLFT</td>\n",
       "      <td>A0201</td>\n",
       "      <td>0</td>\n",
       "    </tr>\n",
       "    <tr>\n",
       "      <th>1</th>\n",
       "      <td>MLIVETAVM</td>\n",
       "      <td>A0201</td>\n",
       "      <td>0</td>\n",
       "    </tr>\n",
       "    <tr>\n",
       "      <th>2</th>\n",
       "      <td>MLIVETAVML</td>\n",
       "      <td>A0201</td>\n",
       "      <td>0</td>\n",
       "    </tr>\n",
       "    <tr>\n",
       "      <th>3</th>\n",
       "      <td>VMLQAPLFTA</td>\n",
       "      <td>A0201</td>\n",
       "      <td>0</td>\n",
       "    </tr>\n",
       "    <tr>\n",
       "      <th>4</th>\n",
       "      <td>LLSECVHAL</td>\n",
       "      <td>A0201</td>\n",
       "      <td>0</td>\n",
       "    </tr>\n",
       "  </tbody>\n",
       "</table>\n",
       "</div>"
      ]
     },
     "execution_count": 6,
     "metadata": {},
     "output_type": "execute_result"
    }
   ],
   "execution_count": 6
  },
  {
   "metadata": {
    "ExecuteTime": {
     "end_time": "2024-06-17T12:31:17.125001Z",
     "start_time": "2024-06-17T12:31:17.093743Z"
    }
   },
   "cell_type": "code",
   "source": [
    "# Get only HLA class I alleles (A, B, C)\n",
    "print(\"Train data shape before filtering by A,B,C genes\", train_prime2_df.shape)\n",
    "train_prime2_df = train_prime2_df[train_prime2_df['Allele'].str.startswith('A') | train_prime2_df['Allele'].str.startswith('B') | train_prime2_df['Allele'].str.startswith('C')]\n",
    "print(\"Train data shape after filtering by A,B,C genes\", train_prime2_df.shape)"
   ],
   "id": "f4f8f54e2fe86a6b",
   "outputs": [
    {
     "name": "stdout",
     "output_type": "stream",
     "text": [
      "Train data shape before filtering by A,B,C genes (65585, 3)\n",
      "Train data shape after filtering by A,B,C genes (65585, 3)\n"
     ]
    }
   ],
   "execution_count": 7
  },
  {
   "metadata": {
    "ExecuteTime": {
     "end_time": "2024-06-17T12:31:17.152725Z",
     "start_time": "2024-06-17T12:31:17.125841Z"
    }
   },
   "cell_type": "code",
   "source": [
    "# Normalize HLA alleles names from A0201 to HLA-A02-01 format\n",
    "train_prime2_df['Allele'] = 'HLA-' + train_prime2_df['Allele'].str[:-2] + '-' + train_prime2_df['Allele'].str[-2:]\n",
    "train_prime2_df.head()"
   ],
   "id": "5d90d7644eb04c09",
   "outputs": [
    {
     "data": {
      "text/plain": [
       "       Mutant      Allele  Immunogenicity\n",
       "0   VMLQAPLFT  HLA-A02-01               0\n",
       "1   MLIVETAVM  HLA-A02-01               0\n",
       "2  MLIVETAVML  HLA-A02-01               0\n",
       "3  VMLQAPLFTA  HLA-A02-01               0\n",
       "4   LLSECVHAL  HLA-A02-01               0"
      ],
      "text/html": [
       "<div>\n",
       "<style scoped>\n",
       "    .dataframe tbody tr th:only-of-type {\n",
       "        vertical-align: middle;\n",
       "    }\n",
       "\n",
       "    .dataframe tbody tr th {\n",
       "        vertical-align: top;\n",
       "    }\n",
       "\n",
       "    .dataframe thead th {\n",
       "        text-align: right;\n",
       "    }\n",
       "</style>\n",
       "<table border=\"1\" class=\"dataframe\">\n",
       "  <thead>\n",
       "    <tr style=\"text-align: right;\">\n",
       "      <th></th>\n",
       "      <th>Mutant</th>\n",
       "      <th>Allele</th>\n",
       "      <th>Immunogenicity</th>\n",
       "    </tr>\n",
       "  </thead>\n",
       "  <tbody>\n",
       "    <tr>\n",
       "      <th>0</th>\n",
       "      <td>VMLQAPLFT</td>\n",
       "      <td>HLA-A02-01</td>\n",
       "      <td>0</td>\n",
       "    </tr>\n",
       "    <tr>\n",
       "      <th>1</th>\n",
       "      <td>MLIVETAVM</td>\n",
       "      <td>HLA-A02-01</td>\n",
       "      <td>0</td>\n",
       "    </tr>\n",
       "    <tr>\n",
       "      <th>2</th>\n",
       "      <td>MLIVETAVML</td>\n",
       "      <td>HLA-A02-01</td>\n",
       "      <td>0</td>\n",
       "    </tr>\n",
       "    <tr>\n",
       "      <th>3</th>\n",
       "      <td>VMLQAPLFTA</td>\n",
       "      <td>HLA-A02-01</td>\n",
       "      <td>0</td>\n",
       "    </tr>\n",
       "    <tr>\n",
       "      <th>4</th>\n",
       "      <td>LLSECVHAL</td>\n",
       "      <td>HLA-A02-01</td>\n",
       "      <td>0</td>\n",
       "    </tr>\n",
       "  </tbody>\n",
       "</table>\n",
       "</div>"
      ]
     },
     "execution_count": 8,
     "metadata": {},
     "output_type": "execute_result"
    }
   ],
   "execution_count": 8
  },
  {
   "metadata": {
    "ExecuteTime": {
     "end_time": "2024-06-17T12:31:17.161425Z",
     "start_time": "2024-06-17T12:31:17.153327Z"
    }
   },
   "cell_type": "code",
   "source": [
    "# Rename columns\n",
    "train_prime2_df = train_prime2_df.rename(\n",
    "    columns = {\n",
    "        'Allele': 'hla_allele',\n",
    "        'Mutant': 'peptide',\n",
    "        'Immunogenicity': 'label'\n",
    "    }\n",
    ")\n",
    "train_prime2_df['is_mono_allelic'] = True\n",
    "train_prime2_df.head()"
   ],
   "id": "79d0eab4817a6612",
   "outputs": [
    {
     "data": {
      "text/plain": [
       "      peptide  hla_allele  label  is_mono_allelic\n",
       "0   VMLQAPLFT  HLA-A02-01      0             True\n",
       "1   MLIVETAVM  HLA-A02-01      0             True\n",
       "2  MLIVETAVML  HLA-A02-01      0             True\n",
       "3  VMLQAPLFTA  HLA-A02-01      0             True\n",
       "4   LLSECVHAL  HLA-A02-01      0             True"
      ],
      "text/html": [
       "<div>\n",
       "<style scoped>\n",
       "    .dataframe tbody tr th:only-of-type {\n",
       "        vertical-align: middle;\n",
       "    }\n",
       "\n",
       "    .dataframe tbody tr th {\n",
       "        vertical-align: top;\n",
       "    }\n",
       "\n",
       "    .dataframe thead th {\n",
       "        text-align: right;\n",
       "    }\n",
       "</style>\n",
       "<table border=\"1\" class=\"dataframe\">\n",
       "  <thead>\n",
       "    <tr style=\"text-align: right;\">\n",
       "      <th></th>\n",
       "      <th>peptide</th>\n",
       "      <th>hla_allele</th>\n",
       "      <th>label</th>\n",
       "      <th>is_mono_allelic</th>\n",
       "    </tr>\n",
       "  </thead>\n",
       "  <tbody>\n",
       "    <tr>\n",
       "      <th>0</th>\n",
       "      <td>VMLQAPLFT</td>\n",
       "      <td>HLA-A02-01</td>\n",
       "      <td>0</td>\n",
       "      <td>True</td>\n",
       "    </tr>\n",
       "    <tr>\n",
       "      <th>1</th>\n",
       "      <td>MLIVETAVM</td>\n",
       "      <td>HLA-A02-01</td>\n",
       "      <td>0</td>\n",
       "      <td>True</td>\n",
       "    </tr>\n",
       "    <tr>\n",
       "      <th>2</th>\n",
       "      <td>MLIVETAVML</td>\n",
       "      <td>HLA-A02-01</td>\n",
       "      <td>0</td>\n",
       "      <td>True</td>\n",
       "    </tr>\n",
       "    <tr>\n",
       "      <th>3</th>\n",
       "      <td>VMLQAPLFTA</td>\n",
       "      <td>HLA-A02-01</td>\n",
       "      <td>0</td>\n",
       "      <td>True</td>\n",
       "    </tr>\n",
       "    <tr>\n",
       "      <th>4</th>\n",
       "      <td>LLSECVHAL</td>\n",
       "      <td>HLA-A02-01</td>\n",
       "      <td>0</td>\n",
       "      <td>True</td>\n",
       "    </tr>\n",
       "  </tbody>\n",
       "</table>\n",
       "</div>"
      ]
     },
     "execution_count": 9,
     "metadata": {},
     "output_type": "execute_result"
    }
   ],
   "execution_count": 9
  },
  {
   "metadata": {
    "ExecuteTime": {
     "end_time": "2024-06-17T12:31:17.175896Z",
     "start_time": "2024-06-17T12:31:17.162702Z"
    }
   },
   "cell_type": "code",
   "source": [
    "# Compute splits\n",
    "unique_peptides = train_prime2_df['peptide'].unique()\n",
    "unique_peptides.shape"
   ],
   "id": "ea4460628d6c729f",
   "outputs": [
    {
     "data": {
      "text/plain": [
       "(63494,)"
      ]
     },
     "execution_count": 10,
     "metadata": {},
     "output_type": "execute_result"
    }
   ],
   "execution_count": 10
  },
  {
   "metadata": {
    "ExecuteTime": {
     "end_time": "2024-06-17T13:07:09.938862Z",
     "start_time": "2024-06-17T12:31:17.176575Z"
    }
   },
   "cell_type": "code",
   "source": "folds = split_common_motif(unique_peptides, num_folds=N_FOLDS, balance_splits=True, all_peptides_df=train_prime2_df)",
   "id": "f52cda34aac0e28a",
   "outputs": [
    {
     "name": "stdout",
     "output_type": "stream",
     "text": [
      "Finding seed sequences of len 5...\n"
     ]
    },
    {
     "name": "stderr",
     "output_type": "stream",
     "text": [
      "100%|██████████| 63494/63494 [18:08<00:00, 58.32it/s] \n"
     ]
    },
    {
     "name": "stdout",
     "output_type": "stream",
     "text": [
      "Found 22470 seed sequences.\n",
      "Assigning sequences to seeds with redundant kmer 5...\n"
     ]
    },
    {
     "name": "stderr",
     "output_type": "stream",
     "text": [
      "100%|██████████| 63494/63494 [17:43<00:00, 59.68it/s] \n"
     ]
    },
    {
     "name": "stdout",
     "output_type": "stream",
     "text": [
      "Balancing splits\n"
     ]
    }
   ],
   "execution_count": 11
  },
  {
   "metadata": {
    "ExecuteTime": {
     "end_time": "2024-06-17T13:07:09.942865Z",
     "start_time": "2024-06-17T13:07:09.940018Z"
    }
   },
   "cell_type": "code",
   "source": [
    "for fn, f in enumerate(folds):\n",
    "    print(f'Fold {fn}: {len(f)}')"
   ],
   "id": "e6bd6e3e0e6f68ee",
   "outputs": [
    {
     "name": "stdout",
     "output_type": "stream",
     "text": [
      "Fold 0: 12705\n",
      "Fold 1: 12678\n",
      "Fold 2: 12725\n",
      "Fold 3: 12676\n",
      "Fold 4: 12710\n"
     ]
    }
   ],
   "execution_count": 12
  },
  {
   "metadata": {
    "ExecuteTime": {
     "end_time": "2024-06-17T13:07:09.975968Z",
     "start_time": "2024-06-17T13:07:09.943807Z"
    }
   },
   "cell_type": "code",
   "source": [
    "# Save folds\n",
    "# for i, fold in enumerate(folds):\n",
    "#     with open(os.path.join(INTERIM_PRIME_DATA_DIR, f'train_PRIME2_2023_peptides_balanced_split_{i}_of_{N_FOLDS}_splits.txt'), 'w') as f:\n",
    "#         for peptide in fold:\n",
    "#             f.write(f'{peptide}\\n')\n",
    "\n",
    "# load folds\n",
    "folds = []\n",
    "for i in range(5):\n",
    "    with open(os.path.join(INTERIM_PRIME_DATA_DIR, f'train_PRIME2_2023_peptides_balanced_split_{i}_of_{N_FOLDS}_splits.txt'), 'r') as f:\n",
    "        fold = [line.strip() for line in f]\n",
    "        folds.append(fold)\n",
    "\n",
    "for fn, f in enumerate(folds):\n",
    "    print(f'Fold {fn}: {len(f)}')"
   ],
   "id": "a1cf34075affb2cc",
   "outputs": [
    {
     "name": "stdout",
     "output_type": "stream",
     "text": [
      "Fold 0: 12705\n",
      "Fold 1: 12678\n",
      "Fold 2: 12725\n",
      "Fold 3: 12676\n",
      "Fold 4: 12710\n"
     ]
    }
   ],
   "execution_count": 13
  },
  {
   "metadata": {
    "ExecuteTime": {
     "end_time": "2024-06-17T14:25:52.909701Z",
     "start_time": "2024-06-17T14:23:22.504864Z"
    }
   },
   "cell_type": "code",
   "source": [
    "# Recover folds in the original dataframe\n",
    "peptide_fold_df = train_prime2_df.copy()\n",
    "peptide_fold_df['split'] = '-'\n",
    "for i, fold in enumerate(folds): # skip fold 0 since it is already assigned\n",
    "    for peptide in tqdm(fold):\n",
    "        peptide_fold_df.loc[peptide_fold_df['peptide'] == peptide, 'split'] = i\n",
    "        \n",
    "peptide_fold_df.to_csv(os.path.join(PROCESSED_PRIME_DATA_DIR, 'train_PRIME2_2023_peptides_hla_ABC_with_BalancedSplits.csv'), index=False)\n",
    "\n",
    "# Load the dataframe with the folds\n",
    "# peptide_fold_df = pd.read_csv(os.path.join(PROCESSED_PRIME_DATA_DIR, 'train_PRIME2_2023_peptides_hla_ABC_with_BalancedSplits.csv'))"
   ],
   "id": "f5311d000badf1e7",
   "outputs": [
    {
     "name": "stderr",
     "output_type": "stream",
     "text": [
      "100%|██████████| 12705/12705 [00:27<00:00, 468.41it/s]\n",
      "100%|██████████| 12678/12678 [00:29<00:00, 423.35it/s]\n",
      "100%|██████████| 12725/12725 [00:30<00:00, 424.05it/s]\n",
      "100%|██████████| 12676/12676 [00:31<00:00, 406.43it/s]\n",
      "100%|██████████| 12710/12710 [00:32<00:00, 396.32it/s]\n"
     ]
    }
   ],
   "execution_count": 14
  },
  {
   "metadata": {
    "ExecuteTime": {
     "end_time": "2024-06-17T14:25:55.148805Z",
     "start_time": "2024-06-17T14:25:55.143344Z"
    }
   },
   "cell_type": "code",
   "source": "peptide_fold_df.groupby('split').size()",
   "id": "ea4b2e3df1a93b87",
   "outputs": [
    {
     "data": {
      "text/plain": [
       "split\n",
       "0    13117\n",
       "1    13117\n",
       "2    13117\n",
       "3    13117\n",
       "4    13117\n",
       "dtype: int64"
      ]
     },
     "execution_count": 15,
     "metadata": {},
     "output_type": "execute_result"
    }
   ],
   "execution_count": 15
  },
  {
   "metadata": {
    "ExecuteTime": {
     "end_time": "2024-06-17T14:26:08.044634Z",
     "start_time": "2024-06-17T14:26:08.030104Z"
    }
   },
   "cell_type": "code",
   "source": [
    "# Num of labels 1 per fold/split\n",
    "peptide_fold_df.groupby('split')['label'].sum()"
   ],
   "id": "707ac4f036294e60",
   "outputs": [
    {
     "data": {
      "text/plain": [
       "split\n",
       "0    117\n",
       "1    109\n",
       "2    114\n",
       "3    144\n",
       "4    112\n",
       "Name: label, dtype: int64"
      ]
     },
     "execution_count": 16,
     "metadata": {},
     "output_type": "execute_result"
    }
   ],
   "execution_count": 16
  },
  {
   "metadata": {
    "ExecuteTime": {
     "end_time": "2024-06-17T14:26:18.734169Z",
     "start_time": "2024-06-17T14:26:18.726150Z"
    }
   },
   "cell_type": "code",
   "source": [
    "# Num of unique hla per fold\n",
    "peptide_fold_df.groupby('split')['hla_allele'].nunique()"
   ],
   "id": "d56013e648f66a74",
   "outputs": [
    {
     "data": {
      "text/plain": [
       "split\n",
       "0    60\n",
       "1    62\n",
       "2    61\n",
       "3    62\n",
       "4    62\n",
       "Name: hla_allele, dtype: int64"
      ]
     },
     "execution_count": 17,
     "metadata": {},
     "output_type": "execute_result"
    }
   ],
   "execution_count": 17
  },
  {
   "metadata": {
    "ExecuteTime": {
     "end_time": "2024-06-17T14:26:50.493765Z",
     "start_time": "2024-06-17T14:26:50.122425Z"
    }
   },
   "cell_type": "code",
   "source": [
    "import matplotlib.pyplot as plt\n",
    "import seaborn as sns\n",
    "\n",
    "# Plot the distribution of peptide lengths per fold\n",
    "peptide_lengths_df = peptide_fold_df.copy()\n",
    "peptide_lengths_df['peptide_length'] = peptide_lengths_df['peptide'].apply(len)\n",
    "plt.figure(figsize=(8, 6))\n",
    "sns.countplot(peptide_lengths_df, x=\"peptide_length\", hue=\"split\", palette='flare')\n",
    "plt.title('Distribution of peptide lengths per split')\n",
    "plt.tight_layout()\n",
    "plt.savefig(os.path.join('.', 'peptide_lengths_per_fold.png'))\n",
    "#plt.ylim(0,500)\n",
    "plt.show()"
   ],
   "id": "9e65032e179ec2aa",
   "outputs": [
    {
     "data": {
      "text/plain": [
       "<Figure size 800x600 with 1 Axes>"
      ],
      "image/png": "[encoded data removed]"
     },
     "metadata": {},
     "output_type": "display_data"
    }
   ],
   "execution_count": 18
  },
  {
   "metadata": {},
   "cell_type": "code",
   "outputs": [],
   "execution_count": null,
   "source": "",
   "id": "514749d93c899657"
  }
 ],
 "metadata": {
  "kernelspec": {
   "display_name": "Python 3",
   "language": "python",
   "name": "python3"
  },
  "language_info": {
   "codemirror_mode": {
    "name": "ipython",
    "version": 2
   },
   "file_extension": ".py",
   "mimetype": "text/x-python",
   "name": "python",
   "nbconvert_exporter": "python",
   "pygments_lexer": "ipython2",
   "version": "2.7.6"
  }
 },
 "nbformat": 4,
 "nbformat_minor": 5
}
