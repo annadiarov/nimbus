{
 "cells": [
  {
   "metadata": {},
   "cell_type": "markdown",
   "source": [
    "# Naive NN \n",
    "\n",
    "We will implement a Feed Forward NN that uses the peptide low-dim vector with the HLA flatten representation for peptide binding classification."
   ],
   "id": "c5b0059c29946cdb"
  },
  {
   "metadata": {
    "ExecuteTime": {
     "end_time": "2024-04-28T14:04:53.159970Z",
     "start_time": "2024-04-28T14:04:52.041544Z"
    }
   },
   "cell_type": "code",
   "source": [
    "import torch\n",
    "import torch.nn as nn\n",
    "import torch.optim as optim\n",
    "import torch.nn.functional as F\n",
    "from torch.utils.data import DataLoader, Dataset\n",
    "from sklearn.model_selection import train_test_split\n",
    "from sklearn.metrics import roc_auc_score, roc_curve\n",
    "import matplotlib.pyplot as plt\n",
    "from tqdm import tqdm\n",
    "import numpy as np\n",
    "import os\n"
   ],
   "id": "aa2a99203fb61dab",
   "outputs": [],
   "execution_count": 1
  },
  {
   "metadata": {
    "ExecuteTime": {
     "end_time": "2024-04-28T14:04:53.163478Z",
     "start_time": "2024-04-28T14:04:53.160803Z"
    }
   },
   "cell_type": "code",
   "source": [
    "# PATH\n",
    "DATA_FOLDER = os.path.join('..', 'data')\n",
    "PROCESS_DATA_FOLDER = os.path.join(DATA_FOLDER, 'processed')\n",
    "PROCESS_pHLA_BINDING_FOLDER = os.path.join(PROCESS_DATA_FOLDER, 'pHLA_binding')\n",
    "\n",
    "PROCESS_NETMHCPAN_pHLA_FOLDER = os.path.join(PROCESS_pHLA_BINDING_FOLDER, 'NetMHCpan_dataset')\n",
    "\n",
    "# CONSTANTS\n",
    "N_WORKERS = 4\n",
    "DEVICE = torch.device('cuda' if torch.cuda.is_available() else 'cpu')\n",
    "N_LABELS = 2\n",
    "N_EPOCHS = 2\n",
    "EXP_NAME = 'naive_nn'\n",
    "CHEKPOINT_FOLDER = os.path.join('.', 'checkpoints', EXP_NAME)\n",
    "os.makedirs(CHEKPOINT_FOLDER, exist_ok=True)"
   ],
   "id": "d9888f0f1c3373a5",
   "outputs": [],
   "execution_count": 2
  },
  {
   "metadata": {
    "ExecuteTime": {
     "end_time": "2024-04-28T14:04:53.181244Z",
     "start_time": "2024-04-28T14:04:53.164344Z"
    }
   },
   "cell_type": "code",
   "source": [
    "# File paths\n",
    "\n",
    "# Only using binding affinity data for training\n",
    "train_data = os.path.join(PROCESS_NETMHCPAN_pHLA_FOLDER, 'train_ba_merged_enc.npy')\n",
    "train_labels = os.path.join(PROCESS_NETMHCPAN_pHLA_FOLDER, 'train_ba_labels.npy')\n",
    "test_data = os.path.join(PROCESS_NETMHCPAN_pHLA_FOLDER, 'test_merged_enc.npy')\n",
    "test_labels = os.path.join(PROCESS_NETMHCPAN_pHLA_FOLDER, 'test_labels.npy')\n",
    "\n"
   ],
   "id": "c3cf7c1aec5f3735",
   "outputs": [],
   "execution_count": 3
  },
  {
   "metadata": {
    "ExecuteTime": {
     "end_time": "2024-04-28T14:04:53.190359Z",
     "start_time": "2024-04-28T14:04:53.182266Z"
    }
   },
   "cell_type": "code",
   "source": [
    "class Data(Dataset):\n",
    "    def __init__(self, X_train: np.array, y_train: np.array):\n",
    "        self.X = torch.from_numpy(X_train.astype(np.float32))\n",
    "        self.y = torch.from_numpy(y_train).type(torch.float32)\n",
    "        self.len = self.X.shape[0]\n",
    "  \n",
    "    def __getitem__(self, index):\n",
    "        return self.X[index], self.y[index]\n",
    "    \n",
    "    def __len__(self):\n",
    "        return self.len"
   ],
   "id": "1b6e586cc4fe779d",
   "outputs": [],
   "execution_count": 4
  },
  {
   "metadata": {
    "ExecuteTime": {
     "end_time": "2024-04-28T14:04:53.200325Z",
     "start_time": "2024-04-28T14:04:53.191801Z"
    }
   },
   "cell_type": "code",
   "source": [
    "\n",
    "class CNN1d(nn.Module):\n",
    "    def __init__(self, input_dim: int,\n",
    "                       n_classes: int, \n",
    "                       in_channels: int = 1,\n",
    "                       hidden_dim: int = 64):\n",
    "        \"\"\"\n",
    "        1D Convolutional Neural Network\n",
    "        :param input_dim: int, Size of the 1d array\n",
    "        :param n_classes: int, number of classes to predict\n",
    "        :param in_channels: int, number of input channels\n",
    "        :param hidden_dim: int, number of hidden units in the fully connected layer classifier\n",
    "        \"\"\"\n",
    "        super(CNN1d, self).__init__()\n",
    "        n_ch_cnv1 = 32\n",
    "        n_ch_cnv2 = 64\n",
    "        n_ch_cnv3 = 128\n",
    "        n_ch_cnv4 = 256\n",
    "        ks_cnv = 3          # kernel size convolutions \n",
    "        ks_pool = 2         # kernel size MaxPooling\n",
    "        s_cnv = 1           # stride convolutions       \n",
    "        s_pool = 2          # stride MaxPooling       \n",
    "        pad = 1             # padding  \n",
    "        \n",
    "        \n",
    "        self.feature_extractor = nn.Sequential(\n",
    "            nn.Conv1d(in_channels=in_channels, out_channels=n_ch_cnv1,\n",
    "                      kernel_size=ks_cnv, stride=s_cnv, padding=pad),\n",
    "            nn.ELU(),\n",
    "            nn.MaxPool1d(kernel_size=ks_pool, stride=s_pool),\n",
    "            nn.Conv1d(in_channels=n_ch_cnv1, out_channels=n_ch_cnv2,\n",
    "                      kernel_size=ks_cnv, stride=s_cnv, padding=pad),\n",
    "            nn.ELU(),\n",
    "            nn.MaxPool1d(kernel_size=ks_pool, stride=s_pool),\n",
    "            nn.Conv1d(in_channels=n_ch_cnv2, out_channels=n_ch_cnv3, \n",
    "                      kernel_size=ks_cnv, stride=s_cnv, padding=pad),\n",
    "            nn.ELU(),\n",
    "            nn.MaxPool1d(kernel_size=ks_pool, stride=s_pool),\n",
    "            nn.Conv1d(in_channels=n_ch_cnv3, out_channels=n_ch_cnv4,\n",
    "                      kernel_size=ks_cnv, stride=s_cnv, padding=pad),\n",
    "            nn.ELU(),\n",
    "            nn.MaxPool1d(kernel_size=ks_pool, stride=s_pool),\n",
    "            nn.Flatten()\n",
    "        )\n",
    "        \n",
    "        flatten_vec_size = self.compute_output_size_conv1d(input_size=input_dim, \n",
    "                                                           ks_conv=ks_cnv, \n",
    "                                                           ks_pool=ks_pool, \n",
    "                                                           s_conv=s_cnv,\n",
    "                                                           s_pool=s_pool,\n",
    "                                                           pad_conv=pad,\n",
    "                                                           n_ch_last_layer=n_ch_cnv4,\n",
    "                                                           num_conv_pool_pairs=4)\n",
    "        self.classifier = nn.Sequential(\n",
    "            nn.Linear(flatten_vec_size, hidden_dim),\n",
    "            nn.ELU(),\n",
    "            nn.Linear(hidden_dim, hidden_dim),\n",
    "            nn.ELU(),\n",
    "            nn.Linear(hidden_dim, hidden_dim),\n",
    "            nn.ELU(),\n",
    "            nn.Linear(hidden_dim, n_classes)\n",
    "        )\n",
    "        \n",
    "    def forward(self, x):\n",
    "        # x: (batch_size, in_channels, input_dim)\n",
    "        x = self.feature_extractor(x)\n",
    "        x = self.classifier(x)\n",
    "        x = F.softmax(x, dim=-1)\n",
    "        return x\n",
    "        \n",
    "    @staticmethod\n",
    "    def compute_output_size_conv1d(input_size: int, \n",
    "                                   ks_conv: int,\n",
    "                                   ks_pool: int, \n",
    "                                   s_conv: int, \n",
    "                                   s_pool: int, \n",
    "                                   pad_conv: int,\n",
    "                                   n_ch_last_layer: int, \n",
    "                                   num_conv_pool_pairs: int) -> int:\n",
    "        \"\"\"\n",
    "        Compute the output size of a 1d-CNN  \n",
    "        \n",
    "        :param input_size: int, input size\n",
    "        :param ks_conv: int, kernel size of the convolution\n",
    "        :param ks_pool: int, kernel size of the MaxPooling\n",
    "        :param s_conv: int, stride of the convolution\n",
    "        :param s_pool: int, stride of the MaxPooling\n",
    "        :param pad_conv: int, padding of the convolution\n",
    "        :param n_ch_last_layer: int, number of channels of the last convolutional layer\n",
    "        :param num_conv_pool_pairs: int, number of convolutional and MaxPooling pairs\n",
    "        :return: int, output size\n",
    "        \"\"\"\n",
    "        output_size = input_size\n",
    "        for _ in range(num_conv_pool_pairs):\n",
    "            # Convolution\n",
    "            output_size = (output_size - ks_conv + 2 * pad_conv) // s_conv + 1\n",
    "            # MaxPooling\n",
    "            output_size = (output_size - ks_pool) // s_pool + 1\n",
    "        return output_size * n_ch_last_layer\n",
    "        \n",
    "    "
   ],
   "id": "fb1c9c0129f59bb9",
   "outputs": [],
   "execution_count": 5
  },
  {
   "metadata": {
    "ExecuteTime": {
     "end_time": "2024-04-28T14:04:53.214445Z",
     "start_time": "2024-04-28T14:04:53.201073Z"
    }
   },
   "cell_type": "code",
   "source": [
    "def train_one_epoch(model, train_loader, optimizer, criterion, device):\n",
    "    model.train()\n",
    "    running_loss = 0.0\n",
    "    for i, data in enumerate(train_loader):\n",
    "        inputs, labels = data\n",
    "        inputs, labels = inputs.to(device), labels.to(device)    \n",
    "        # Add channel dimension for 1DCNN\n",
    "        inputs = inputs.view(inputs.shape[0], 1, inputs.shape[1])\n",
    "        optimizer.zero_grad()\n",
    "        outputs = model(inputs)\n",
    "        loss = criterion(outputs, labels)\n",
    "        loss.backward()\n",
    "        optimizer.step()\n",
    "        running_loss += loss.item()\n",
    "    return running_loss / len(train_loader)\n",
    "\n",
    "def eval_one_epoch(model, val_loader, criterion, device):\n",
    "    model.eval()\n",
    "    running_loss = 0.0\n",
    "    for i, data in enumerate(val_loader):\n",
    "        inputs, labels = data\n",
    "        inputs, labels = inputs.to(device), labels.to(device)\n",
    "        # Add channel dimension for 1DCNN\n",
    "        inputs = inputs.view(inputs.shape[0], 1, inputs.shape[1])\n",
    "        outputs = model(inputs)\n",
    "        loss = criterion(outputs, labels)\n",
    "        running_loss += loss.item()\n",
    "    return running_loss / len(val_loader)\n",
    "\n",
    "def train(model, train_loader, val_loader,\n",
    "          optimizer, criterion, n_epochs, device,\n",
    "          checkpoint_path=None):\n",
    "    model = model.to(device)\n",
    "    \n",
    "    train_losses = []\n",
    "    val_losses = []\n",
    "    best_val_loss = np.inf\n",
    "    for epoch in tqdm(range(n_epochs)):\n",
    "        train_loss = train_one_epoch(model, train_loader, optimizer, criterion, device)\n",
    "        val_loss = eval_one_epoch(model, val_loader, criterion, device)\n",
    "        train_losses.append(train_loss)\n",
    "        val_losses.append(val_loss)\n",
    "        if val_loss < best_val_loss:\n",
    "            best_val_loss = val_loss\n",
    "            if checkpoint_path:\n",
    "                torch.save(model.state_dict(), os.path.join(checkpoint_path, 'best_model.t7'))\n",
    "        print(f'Epoch {epoch+1}/{n_epochs} - Train Loss: {round(train_loss, 4)} - Val Loss: {round(val_loss, 4)} - Best Val Loss: {round(best_val_loss, 4)}')\n",
    "    return train_losses, val_losses\n",
    "\n",
    "def test(model, test_loader, device, compute_roc=False):\n",
    "    model.eval()\n",
    "    y_true = []\n",
    "    y_pred = []\n",
    "    for i, data in enumerate(test_loader):\n",
    "        inputs, labels = data\n",
    "        inputs, labels = inputs.to(device), labels.to(device)\n",
    "        # Add channel dimension for 1DCNN\n",
    "        inputs = inputs.view(inputs.shape[0], 1, inputs.shape[1])\n",
    "        outputs = model(inputs)\n",
    "        _, outputs = torch.max(outputs, 1)\n",
    "        _, labels = torch.max(labels, 1)\n",
    "        y_true.append(labels.cpu().numpy())\n",
    "        y_pred.append(outputs.cpu().detach().numpy())\n",
    "        \n",
    "    y_true = np.concatenate(y_true)\n",
    "    y_pred = np.concatenate(y_pred)\n",
    "    \n",
    "    if compute_roc:\n",
    "        roc_auc = roc_auc_score(y_true, y_pred)\n",
    "        # plot roc curve\n",
    "        fpr, tpr, _ = roc_curve(y_true, y_pred)\n",
    "        plt.plot(fpr, tpr)\n",
    "        plt.xlabel('False Positive Rate')\n",
    "        plt.ylabel('True Positive Rate')\n",
    "        plt.title(f'ROC AUC: {roc_auc}')\n",
    "        plt.show()\n",
    "    return y_true, y_pred"
   ],
   "id": "292faa4d3fb098d4",
   "outputs": [],
   "execution_count": 6
  },
  {
   "metadata": {
    "ExecuteTime": {
     "end_time": "2024-04-28T14:04:54.011250Z",
     "start_time": "2024-04-28T14:04:53.215115Z"
    }
   },
   "cell_type": "code",
   "source": [
    "# Load data\n",
    "X_train = np.load(train_data)[:1000, :]\n",
    "y_train = np.load(train_labels)[:1000]\n",
    "X_test = np.load(test_data)[:1000, :]\n",
    "y_test = np.load(test_labels)[:1000]\n",
    "\n",
    "# Convert to one-hot encoding\n",
    "y_train = np.eye(N_LABELS)[y_train]\n",
    "y_test = np.eye(N_LABELS)[y_test]\n",
    "\n",
    "X_train, X_val, y_train, y_val = train_test_split(X_train, y_train, test_size=0.2, random_state=42)\n",
    "\n",
    "train_data = Data(X_train, y_train)\n",
    "val_data = Data(X_val, y_val)\n",
    "test_data = Data(X_test, y_test)\n",
    "\n",
    "train_loader = DataLoader(dataset=train_data, batch_size=32, shuffle=True, num_workers=N_WORKERS)\n",
    "val_loader = DataLoader(dataset=val_data, batch_size=32, shuffle=True, num_workers=N_WORKERS)\n",
    "test_loader = DataLoader(dataset=test_data, batch_size=32, shuffle=True, num_workers=N_WORKERS)\n",
    "\n",
    "del X_train, y_train, X_val, y_val, X_test, y_test"
   ],
   "id": "ce3d7bf9f33e224b",
   "outputs": [],
   "execution_count": 7
  },
  {
   "metadata": {
    "ExecuteTime": {
     "end_time": "2024-04-28T14:04:54.016915Z",
     "start_time": "2024-04-28T14:04:54.012099Z"
    }
   },
   "cell_type": "code",
   "source": "train_data[0][0].shape[0]",
   "id": "73523a63c5acb9e8",
   "outputs": [
    {
     "data": {
      "text/plain": [
       "2912"
      ]
     },
     "execution_count": 8,
     "metadata": {},
     "output_type": "execute_result"
    }
   ],
   "execution_count": 8
  },
  {
   "metadata": {
    "ExecuteTime": {
     "end_time": "2024-04-28T14:05:01.820408Z",
     "start_time": "2024-04-28T14:04:54.017545Z"
    }
   },
   "cell_type": "code",
   "source": [
    "input_dim = train_data[0][0].shape[0]\n",
    "#model = Network(input_dim=input_dim, hidden_dim=64, output_dim=N_LABELS)\n",
    "model = CNN1d(input_dim=input_dim, hidden_dim=64, n_classes=N_LABELS)\n",
    "optimizer = optim.Adam(model.parameters(), lr=0.001)\n",
    "criterion = nn.CrossEntropyLoss()\n",
    "\n",
    "train_losses, val_losses = train(model, train_loader, val_loader, optimizer, criterion, N_EPOCHS, DEVICE, checkpoint_path=CHEKPOINT_FOLDER)\n",
    "\n",
    "plt.plot(train_losses, label='Train Loss')\n",
    "plt.plot(val_losses, label='Val Loss')\n",
    "plt.xlabel('Epoch')\n",
    "plt.ylabel('CrossEntropyLoss')\n",
    "plt.legend()\n",
    "plt.savefig(os.path.join(CHEKPOINT_FOLDER, 'loss.png'))\n",
    "plt.show()\n",
    "\n",
    "with open(os.path.join(CHEKPOINT_FOLDER, 'train_val_losses.csv'), 'w') as f:\n",
    "    f.write('train_loss,val_loss\\n')\n",
    "    for train_loss, val_loss in zip(train_losses, val_losses):\n",
    "        f.write(f'{train_loss},{val_loss}\\n')"
   ],
   "id": "54217264f1f47f8c",
   "outputs": [
    {
     "name": "stderr",
     "output_type": "stream",
     "text": [
      " 50%|█████     | 1/2 [00:03<00:03,  3.60s/it]"
     ]
    },
    {
     "name": "stdout",
     "output_type": "stream",
     "text": [
      "Epoch 1/2 - Train Loss: 0.6276 - Val Loss: 0.5856 - Best Val Loss: 0.5856\n"
     ]
    },
    {
     "name": "stderr",
     "output_type": "stream",
     "text": [
      "100%|██████████| 2/2 [00:07<00:00,  3.57s/it]"
     ]
    },
    {
     "name": "stdout",
     "output_type": "stream",
     "text": [
      "Epoch 2/2 - Train Loss: 0.622 - Val Loss: 0.6124 - Best Val Loss: 0.5856\n"
     ]
    },
    {
     "name": "stderr",
     "output_type": "stream",
     "text": [
      "\n"
     ]
    },
    {
     "data": {
      "text/plain": [
       "<Figure size 640x480 with 1 Axes>"
      ],
      "image/png": "[encoded data removed]"
     },
     "metadata": {},
     "output_type": "display_data"
    }
   ],
   "execution_count": 9
  },
  {
   "metadata": {
    "ExecuteTime": {
     "end_time": "2024-04-28T14:05:04.668026Z",
     "start_time": "2024-04-28T14:05:01.822850Z"
    }
   },
   "cell_type": "code",
   "source": [
    "best_model_path = os.path.join(CHEKPOINT_FOLDER, 'best_model.t7')\n",
    "model.load_state_dict(torch.load(best_model_path))\n",
    "y_true, y_pred = test(model, test_loader, DEVICE, compute_roc=True)"
   ],
   "id": "b394861cbf63f304",
   "outputs": [
    {
     "data": {
      "text/plain": [
       "<Figure size 640x480 with 1 Axes>"
      ],
      "image/png": "[encoded data removed]"
     },
     "metadata": {},
     "output_type": "display_data"
    }
   ],
   "execution_count": 10
  },
  {
   "metadata": {
    "ExecuteTime": {
     "end_time": "2024-04-28T14:05:04.671609Z",
     "start_time": "2024-04-28T14:05:04.669631Z"
    }
   },
   "cell_type": "code",
   "source": "",
   "id": "8c5086987c444af5",
   "outputs": [],
   "execution_count": 10
  }
 ],
 "metadata": {
  "kernelspec": {
   "display_name": "Python 3",
   "language": "python",
   "name": "python3"
  },
  "language_info": {
   "codemirror_mode": {
    "name": "ipython",
    "version": 2
   },
   "file_extension": ".py",
   "mimetype": "text/x-python",
   "name": "python",
   "nbconvert_exporter": "python",
   "pygments_lexer": "ipython2",
   "version": "2.7.6"
  }
 },
 "nbformat": 4,
 "nbformat_minor": 5
}
