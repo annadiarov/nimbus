{
 "cells": [
  {
   "metadata": {},
   "cell_type": "markdown",
   "source": [
    "# Naive NN \n",
    "\n",
    "We will implement a Feed Forward NN that uses the peptide low-dim vector with the HLA flatten representation for peptide binding classification."
   ],
   "id": "c5b0059c29946cdb"
  },
  {
   "metadata": {
    "ExecuteTime": {
     "end_time": "2024-04-20T22:28:11.678575Z",
     "start_time": "2024-04-20T22:28:10.497816Z"
    }
   },
   "cell_type": "code",
   "source": [
    "import torch\n",
    "import torch.nn as nn\n",
    "import torch.optim as optim\n",
    "import torch.nn.functional as F\n",
    "from torch.utils.data import DataLoader, Dataset\n",
    "from sklearn.model_selection import train_test_split\n",
    "from sklearn.metrics import roc_auc_score, roc_curve\n",
    "import matplotlib.pyplot as plt\n",
    "from tqdm import tqdm\n",
    "import numpy as np\n",
    "import os\n"
   ],
   "id": "aa2a99203fb61dab",
   "outputs": [],
   "execution_count": 1
  },
  {
   "metadata": {
    "ExecuteTime": {
     "end_time": "2024-04-20T22:28:11.682284Z",
     "start_time": "2024-04-20T22:28:11.679468Z"
    }
   },
   "cell_type": "code",
   "source": [
    "# PATH\n",
    "DATA_FOLDER = os.path.join('..', 'data')\n",
    "PROCESS_DATA_FOLDER = os.path.join(DATA_FOLDER, 'processed')\n",
    "PROCESS_pHLA_BINDING_FOLDER = os.path.join(PROCESS_DATA_FOLDER, 'pHLA_binding')\n",
    "\n",
    "PROCESS_NETMHCPAN_pHLA_FOLDER = os.path.join(PROCESS_pHLA_BINDING_FOLDER, 'NetMHCpan_dataset')\n",
    "\n",
    "# CONSTANTS\n",
    "N_WORKERS = 4\n",
    "DEVICE = torch.device('cuda' if torch.cuda.is_available() else 'cpu')\n",
    "N_LABELS = 2\n",
    "N_EPOCHS = 2\n",
    "EXP_NAME = 'naive_nn'\n",
    "CHEKPOINT_FOLDER = os.path.join('.', 'checkpoints', EXP_NAME)\n",
    "os.makedirs(CHEKPOINT_FOLDER, exist_ok=True)"
   ],
   "id": "d9888f0f1c3373a5",
   "outputs": [],
   "execution_count": 2
  },
  {
   "metadata": {
    "ExecuteTime": {
     "end_time": "2024-04-20T22:28:11.700108Z",
     "start_time": "2024-04-20T22:28:11.683072Z"
    }
   },
   "cell_type": "code",
   "source": [
    "# File paths\n",
    "\n",
    "# Only using binding affinity data for training\n",
    "train_data = os.path.join(PROCESS_NETMHCPAN_pHLA_FOLDER, 'train_ba_merged_enc.npy')\n",
    "train_labels = os.path.join(PROCESS_NETMHCPAN_pHLA_FOLDER, 'train_ba_labels.npy')\n",
    "test_data = os.path.join(PROCESS_NETMHCPAN_pHLA_FOLDER, 'test_merged_enc.npy')\n",
    "test_labels = os.path.join(PROCESS_NETMHCPAN_pHLA_FOLDER, 'test_labels.npy')\n",
    "\n"
   ],
   "id": "c3cf7c1aec5f3735",
   "outputs": [],
   "execution_count": 3
  },
  {
   "metadata": {
    "ExecuteTime": {
     "end_time": "2024-04-20T22:28:11.713157Z",
     "start_time": "2024-04-20T22:28:11.701563Z"
    }
   },
   "cell_type": "code",
   "source": [
    "class Data(Dataset):\n",
    "    def __init__(self, X_train: np.array, y_train: np.array):\n",
    "        self.X = torch.from_numpy(X_train.astype(np.float32))\n",
    "        self.y = torch.from_numpy(y_train).type(torch.float32)\n",
    "        self.len = self.X.shape[0]\n",
    "  \n",
    "    def __getitem__(self, index):\n",
    "        return self.X[index], self.y[index]\n",
    "    \n",
    "    def __len__(self):\n",
    "        return self.len"
   ],
   "id": "1b6e586cc4fe779d",
   "outputs": [],
   "execution_count": 4
  },
  {
   "metadata": {
    "ExecuteTime": {
     "end_time": "2024-04-20T22:28:11.721837Z",
     "start_time": "2024-04-20T22:28:11.713828Z"
    }
   },
   "cell_type": "code",
   "source": [
    "class Network(nn.Module):\n",
    "    def __init__(self, input_dim, hidden_dim, output_dim):\n",
    "        super(Network, self).__init__()\n",
    "        self.fc1 = nn.Linear(input_dim, hidden_dim)\n",
    "        self.fc2 = nn.Linear(hidden_dim, output_dim)\n",
    "        \n",
    "    def forward(self, x):\n",
    "        x = F.relu(self.fc1(x))\n",
    "        x = self.fc2(x)\n",
    "        x = F.softmax(x, dim=-1)\n",
    "        return x\n",
    "        "
   ],
   "id": "989db687279d20d4",
   "outputs": [],
   "execution_count": 5
  },
  {
   "metadata": {
    "ExecuteTime": {
     "end_time": "2024-04-20T22:28:11.732516Z",
     "start_time": "2024-04-20T22:28:11.722517Z"
    }
   },
   "cell_type": "code",
   "source": [
    "def train_one_epoch(model, train_loader, optimizer, criterion, device):\n",
    "    model.train()\n",
    "    running_loss = 0.0\n",
    "    for i, data in enumerate(train_loader):\n",
    "        inputs, labels = data\n",
    "        inputs, labels = inputs.to(device), labels.to(device)        \n",
    "        optimizer.zero_grad()\n",
    "        outputs = model(inputs)\n",
    "        loss = criterion(outputs, labels)\n",
    "        loss.backward()\n",
    "        optimizer.step()\n",
    "        running_loss += loss.item()\n",
    "    return running_loss / len(train_loader)\n",
    "\n",
    "def eval_one_epoch(model, val_loader, criterion, device):\n",
    "    model.eval()\n",
    "    running_loss = 0.0\n",
    "    for i, data in enumerate(val_loader):\n",
    "        inputs, labels = data\n",
    "        inputs, labels = inputs.to(device), labels.to(device)\n",
    "        outputs = model(inputs)\n",
    "        loss = criterion(outputs, labels)\n",
    "        running_loss += loss.item()\n",
    "    return running_loss / len(val_loader)\n",
    "\n",
    "def train(model, train_loader, val_loader,\n",
    "          optimizer, criterion, n_epochs, device,\n",
    "          checkpoint_path=None):\n",
    "    model = model.to(device)\n",
    "    \n",
    "    train_losses = []\n",
    "    val_losses = []\n",
    "    best_val_loss = np.inf\n",
    "    for epoch in tqdm(range(n_epochs)):\n",
    "        train_loss = train_one_epoch(model, train_loader, optimizer, criterion, device)\n",
    "        val_loss = eval_one_epoch(model, val_loader, criterion, device)\n",
    "        train_losses.append(train_loss)\n",
    "        val_losses.append(val_loss)\n",
    "        if val_loss < best_val_loss:\n",
    "            best_val_loss = val_loss\n",
    "            if checkpoint_path:\n",
    "                torch.save(model.state_dict(), os.path.join(checkpoint_path, 'best_model.t7'))\n",
    "        print(f'Epoch {epoch+1}/{n_epochs} - Train Loss: {round(train_loss, 4)} - Val Loss: {round(val_loss, 4)} - Best Val Loss: {round(best_val_loss, 4)}')\n",
    "    return train_losses, val_losses\n",
    "\n",
    "def test(model, test_loader, device, compute_roc=False):\n",
    "    model.eval()\n",
    "    y_true = []\n",
    "    y_pred = []\n",
    "    for i, data in enumerate(test_loader):\n",
    "        inputs, labels = data\n",
    "        inputs, labels = inputs.to(device), labels.to(device)\n",
    "        outputs = model(inputs)\n",
    "        _, outputs = torch.max(outputs, 1)\n",
    "        _, labels = torch.max(labels, 1)\n",
    "        y_true.append(labels.cpu().numpy())\n",
    "        y_pred.append(outputs.cpu().detach().numpy())\n",
    "        \n",
    "    y_true = np.concatenate(y_true)\n",
    "    y_pred = np.concatenate(y_pred)\n",
    "    \n",
    "    if compute_roc:\n",
    "        roc_auc = roc_auc_score(y_true, y_pred)\n",
    "        # plot roc curve\n",
    "        fpr, tpr, _ = roc_curve(y_true, y_pred)\n",
    "        plt.plot(fpr, tpr)\n",
    "        plt.xlabel('False Positive Rate')\n",
    "        plt.ylabel('True Positive Rate')\n",
    "        plt.title(f'ROC AUC: {roc_auc}')\n",
    "        plt.show()\n",
    "    return y_true, y_pred"
   ],
   "id": "292faa4d3fb098d4",
   "outputs": [],
   "execution_count": 6
  },
  {
   "metadata": {
    "ExecuteTime": {
     "end_time": "2024-04-20T22:28:15.874943Z",
     "start_time": "2024-04-20T22:28:11.733252Z"
    }
   },
   "cell_type": "code",
   "source": [
    "# Load data\n",
    "X_train = np.load(train_data)#[:1000, :]\n",
    "y_train = np.load(train_labels)#[:1000]\n",
    "X_test = np.load(test_data)#[:1000, :]\n",
    "y_test = np.load(test_labels)#[:1000]\n",
    "\n",
    "# Convert to one-hot encoding\n",
    "y_train = np.eye(N_LABELS)[y_train]\n",
    "y_test = np.eye(N_LABELS)[y_test]\n",
    "\n",
    "X_train, X_val, y_train, y_val = train_test_split(X_train, y_train, test_size=0.2, random_state=42)\n",
    "\n",
    "train_data = Data(X_train, y_train)\n",
    "val_data = Data(X_val, y_val)\n",
    "test_data = Data(X_test, y_test)\n",
    "\n",
    "train_loader = DataLoader(dataset=train_data, batch_size=32, shuffle=True, num_workers=N_WORKERS)\n",
    "val_loader = DataLoader(dataset=val_data, batch_size=32, shuffle=True, num_workers=N_WORKERS)\n",
    "test_loader = DataLoader(dataset=test_data, batch_size=32, shuffle=True, num_workers=N_WORKERS)\n",
    "\n",
    "del X_train, y_train, X_val, y_val, X_test, y_test"
   ],
   "id": "ce3d7bf9f33e224b",
   "outputs": [],
   "execution_count": 7
  },
  {
   "metadata": {
    "ExecuteTime": {
     "end_time": "2024-04-20T22:28:36.165116Z",
     "start_time": "2024-04-20T22:28:15.876239Z"
    }
   },
   "cell_type": "code",
   "source": [
    "input_dim = train_data[0][0].shape[0]\n",
    "model = Network(input_dim=input_dim, hidden_dim=64, output_dim=N_LABELS)\n",
    "optimizer = optim.Adam(model.parameters(), lr=0.001)\n",
    "criterion = nn.CrossEntropyLoss()\n",
    "\n",
    "train_losses, val_losses = train(model, train_loader, val_loader, optimizer, criterion, N_EPOCHS, DEVICE, checkpoint_path=CHEKPOINT_FOLDER)\n",
    "\n",
    "plt.plot(train_losses, label='Train Loss')\n",
    "plt.plot(val_losses, label='Val Loss')\n",
    "plt.xlabel('Epoch')\n",
    "plt.ylabel('CrossEntropyLoss')\n",
    "plt.legend()\n",
    "plt.show()"
   ],
   "id": "54217264f1f47f8c",
   "outputs": [
    {
     "name": "stderr",
     "output_type": "stream",
     "text": [
      " 50%|█████     | 1/2 [00:09<00:09,  9.23s/it]"
     ]
    },
    {
     "name": "stdout",
     "output_type": "stream",
     "text": [
      "Epoch 1/2 - Train Loss: 0.561 - Val Loss: 0.5602 - Best Val Loss: 0.5602\n"
     ]
    },
    {
     "name": "stderr",
     "output_type": "stream",
     "text": [
      "100%|██████████| 2/2 [00:19<00:00,  9.86s/it]"
     ]
    },
    {
     "name": "stdout",
     "output_type": "stream",
     "text": [
      "Epoch 2/2 - Train Loss: 0.561 - Val Loss: 0.5603 - Best Val Loss: 0.5602\n"
     ]
    },
    {
     "name": "stderr",
     "output_type": "stream",
     "text": [
      "\n"
     ]
    },
    {
     "data": {
      "text/plain": [
       "<Figure size 640x480 with 1 Axes>"
      ],
      "image/png": "[encoded data removed]"
     },
     "metadata": {},
     "output_type": "display_data"
    }
   ],
   "execution_count": 8
  },
  {
   "metadata": {
    "ExecuteTime": {
     "end_time": "2024-04-20T22:28:42.176970Z",
     "start_time": "2024-04-20T22:28:36.166088Z"
    }
   },
   "cell_type": "code",
   "source": [
    "best_model_path = os.path.join(CHEKPOINT_FOLDER, 'best_model.t7')\n",
    "model.load_state_dict(torch.load(best_model_path))\n",
    "y_true, y_pred = test(model, test_loader, DEVICE, compute_roc=True)"
   ],
   "id": "b394861cbf63f304",
   "outputs": [
    {
     "data": {
      "text/plain": [
       "<Figure size 640x480 with 1 Axes>"
      ],
      "image/png": "[encoded data removed]"
     },
     "metadata": {},
     "output_type": "display_data"
    }
   ],
   "execution_count": 9
  },
  {
   "metadata": {
    "ExecuteTime": {
     "end_time": "2024-04-20T22:28:42.180875Z",
     "start_time": "2024-04-20T22:28:42.178941Z"
    }
   },
   "cell_type": "code",
   "source": "",
   "id": "8c5086987c444af5",
   "outputs": [],
   "execution_count": 9
  }
 ],
 "metadata": {
  "kernelspec": {
   "display_name": "Python 3",
   "language": "python",
   "name": "python3"
  },
  "language_info": {
   "codemirror_mode": {
    "name": "ipython",
    "version": 2
   },
   "file_extension": ".py",
   "mimetype": "text/x-python",
   "name": "python",
   "nbconvert_exporter": "python",
   "pygments_lexer": "ipython2",
   "version": "2.7.6"
  }
 },
 "nbformat": 4,
 "nbformat_minor": 5
}
