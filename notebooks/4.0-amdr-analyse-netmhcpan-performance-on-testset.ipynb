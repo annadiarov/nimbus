{
 "cells": [
  {
   "metadata": {},
   "cell_type": "markdown",
   "source": [
    "# Processing data from wellknown tools to set pHLA binding baselines \n",
    "\n",
    "Process output files from well-known methods to set a baseline to compare with. This includes:\n",
    "- `NetMHCpan` tested on:\n",
    "    - `CD8_benchmark_filtered` (NetMHCpan original test set)"
   ],
   "id": "60e13b05d12fdcbe"
  },
  {
   "metadata": {
    "ExecuteTime": {
     "end_time": "2024-06-12T08:38:42.140115Z",
     "start_time": "2024-06-12T08:38:42.133950Z"
    }
   },
   "cell_type": "code",
   "source": [
    "import os\n",
    "import re\n",
    "import glob\n",
    "import pandas as pd"
   ],
   "id": "8ee405e98eff25e7",
   "outputs": [],
   "execution_count": 1
  },
  {
   "metadata": {
    "ExecuteTime": {
     "end_time": "2024-06-12T08:38:42.160561Z",
     "start_time": "2024-06-12T08:38:42.142005Z"
    }
   },
   "cell_type": "code",
   "source": [
    "CHECKPOINTS_DIR = '../checkpoints'\n",
    "BASELINES_DIR = os.path.join(CHECKPOINTS_DIR, 'baselines')\n",
    "NETMHCPAN_BASELINE_DIR = os.path.join(BASELINES_DIR, 'netmhcpan41')\n",
    "RAW_NETMHCPAN_CD8_BENCHMARK_DIR = os.path.join(NETMHCPAN_BASELINE_DIR, 'CD8_benchmark_filtered_outs')\n",
    "out_merged_netmhcpan_cd8_benchmark_file = os.path.join(NETMHCPAN_BASELINE_DIR, 'CD8_benchmark_filtered_outs.csv.gz')"
   ],
   "id": "6cac57c53ca5417",
   "outputs": [],
   "execution_count": 2
  },
  {
   "metadata": {
    "ExecuteTime": {
     "end_time": "2024-06-11T21:59:41.913124Z",
     "start_time": "2024-06-11T21:59:41.903491Z"
    }
   },
   "cell_type": "code",
   "source": [
    "def parse_netmhcpan_output_to_df(file_path):\n",
    "    # Read the file\n",
    "    with open(file_path, 'r') as file:\n",
    "        data = file.read()\n",
    "    \n",
    "    # Split the data into lines and remove headers\n",
    "    lines = data.strip().split('\\n')[48:]\n",
    "    \n",
    "    # Define column names\n",
    "    columns = [\"Pos\", \"MHC\", \"Peptide\", \"Core\", \"Of\", \"Gp\", \"Gl\", \"Ip\", \"Il\", \"Icore\", \"Identity\", \"Score_EL\", \"%Rank_EL\", \"Exp\", \"BindLevel\"]\n",
    "    \n",
    "    # Parse each line into a list of values\n",
    "    parsed_data = []\n",
    "    for line in lines:\n",
    "        # Use regex to handle the fixed-width format\n",
    "        match = re.match(r'(\\s*\\d+)\\s+(\\S+)\\s+(\\S+)\\s+(\\S+)\\s+(\\d+)\\s+(\\d+)\\s+(\\d+)\\s+(\\d+)\\s+(\\d+)\\s+(\\S+)\\s+(\\S*)\\s+([\\d.]+)\\s+([\\d.]+)\\s+([\\d.]+)(.*)', line)\n",
    "        if match:\n",
    "            parsed_data.append(match.groups())\n",
    "    \n",
    "    # Create DataFrame\n",
    "    df = pd.DataFrame(parsed_data, columns=columns)\n",
    "    \n",
    "    return df"
   ],
   "id": "2010e205d018b032",
   "outputs": [],
   "execution_count": 3
  },
  {
   "metadata": {},
   "cell_type": "markdown",
   "source": [
    "## CD8 benchmark\n",
    "\n",
    "### Processing (only run once)\n",
    "The dir has 1600 files, each file contains a set of peptides (with only one binder) for a specific HLA allele. "
   ],
   "id": "220f4687eafc2304"
  },
  {
   "metadata": {
    "ExecuteTime": {
     "end_time": "2024-06-11T22:05:13.454413Z",
     "start_time": "2024-06-11T21:59:44.239739Z"
    }
   },
   "cell_type": "code",
   "source": [
    "# raw_cd8_netmhcpan_outfiles = glob.glob(os.path.join(RAW_NETMHCPAN_CD8_BENCHMARK_DIR, '*.out'))\n",
    "# \n",
    "# # merge all files into a single dataframe\n",
    "# dfs = []\n",
    "# for file in raw_cd8_netmhcpan_outfiles:\n",
    "#     df = parse_netmhcpan_output_to_df(file)\n",
    "#     dfs.append(df)\n",
    "#     \n",
    "# cd8_netmhcpan_df = pd.concat(dfs)\n",
    "# # replace bind level to 1 if SB, 0.5 if WB, 0 if NB (empty)\n",
    "# cd8_netmhcpan_df['BindLevel'] = cd8_netmhcpan_df['BindLevel'].replace({' <= SB': 1, ' <= WB': 0.5, '': 0})\n",
    "# # save relevant columns\n",
    "# cd8_netmhcpan_df = cd8_netmhcpan_df[['MHC', 'Peptide', 'Score_EL', '%Rank_EL', 'Exp', 'BindLevel']]\n",
    "# cd8_netmhcpan_df['Exp'] = cd8_netmhcpan_df['Exp'].astype(float)\n",
    "# cd8_netmhcpan_df.to_csv(out_merged_netmhcpan_cd8_benchmark_file, index=False)"
   ],
   "id": "a9d3b975b42fb2c4",
   "outputs": [
    {
     "name": "stderr",
     "output_type": "stream",
     "text": [
      "/tmp/ipykernel_15039/2744432468.py:9: FutureWarning: Downcasting behavior in `replace` is deprecated and will be removed in a future version. To retain the old behavior, explicitly call `result.infer_objects(copy=False)`. To opt-in to the future behavior, set `pd.set_option('future.no_silent_downcasting', True)`\n",
      "  cd8_netmhcpan_df['BindLevel'] = cd8_netmhcpan_df['BindLevel'].replace({' <= SB': 1, ' <= WB': 0.5, '': 0})\n"
     ]
    }
   ],
   "execution_count": 5
  },
  {
   "metadata": {
    "ExecuteTime": {
     "end_time": "2024-06-11T22:05:13.475964Z",
     "start_time": "2024-06-11T22:05:13.456429Z"
    }
   },
   "cell_type": "code",
   "source": "# cd8_netmhcpan_df.head()",
   "id": "37d26c4e35276072",
   "outputs": [
    {
     "data": {
      "text/plain": [
       "           MHC   Peptide   Score_EL %Rank_EL      Exp  BindLevel\n",
       "0  HLA-A*02:01  MSHVVVKN  0.0000030   87.500  0.00000        0.0\n",
       "1  HLA-A*02:01  SHVVVKND  0.0000000  100.000  0.00000        0.0\n",
       "2  HLA-A*02:01  HVVVKNDP  0.0000070   78.333  0.00000        0.0\n",
       "3  HLA-A*02:01  VVVKNDPE  0.0000120   71.250  0.00000        0.0\n",
       "4  HLA-A*02:01  VVKNDPEL  0.0015740   14.932  0.00000        0.0"
      ],
      "text/html": [
       "<div>\n",
       "<style scoped>\n",
       "    .dataframe tbody tr th:only-of-type {\n",
       "        vertical-align: middle;\n",
       "    }\n",
       "\n",
       "    .dataframe tbody tr th {\n",
       "        vertical-align: top;\n",
       "    }\n",
       "\n",
       "    .dataframe thead th {\n",
       "        text-align: right;\n",
       "    }\n",
       "</style>\n",
       "<table border=\"1\" class=\"dataframe\">\n",
       "  <thead>\n",
       "    <tr style=\"text-align: right;\">\n",
       "      <th></th>\n",
       "      <th>MHC</th>\n",
       "      <th>Peptide</th>\n",
       "      <th>Score_EL</th>\n",
       "      <th>%Rank_EL</th>\n",
       "      <th>Exp</th>\n",
       "      <th>BindLevel</th>\n",
       "    </tr>\n",
       "  </thead>\n",
       "  <tbody>\n",
       "    <tr>\n",
       "      <th>0</th>\n",
       "      <td>HLA-A*02:01</td>\n",
       "      <td>MSHVVVKN</td>\n",
       "      <td>0.0000030</td>\n",
       "      <td>87.500</td>\n",
       "      <td>0.00000</td>\n",
       "      <td>0.0</td>\n",
       "    </tr>\n",
       "    <tr>\n",
       "      <th>1</th>\n",
       "      <td>HLA-A*02:01</td>\n",
       "      <td>SHVVVKND</td>\n",
       "      <td>0.0000000</td>\n",
       "      <td>100.000</td>\n",
       "      <td>0.00000</td>\n",
       "      <td>0.0</td>\n",
       "    </tr>\n",
       "    <tr>\n",
       "      <th>2</th>\n",
       "      <td>HLA-A*02:01</td>\n",
       "      <td>HVVVKNDP</td>\n",
       "      <td>0.0000070</td>\n",
       "      <td>78.333</td>\n",
       "      <td>0.00000</td>\n",
       "      <td>0.0</td>\n",
       "    </tr>\n",
       "    <tr>\n",
       "      <th>3</th>\n",
       "      <td>HLA-A*02:01</td>\n",
       "      <td>VVVKNDPE</td>\n",
       "      <td>0.0000120</td>\n",
       "      <td>71.250</td>\n",
       "      <td>0.00000</td>\n",
       "      <td>0.0</td>\n",
       "    </tr>\n",
       "    <tr>\n",
       "      <th>4</th>\n",
       "      <td>HLA-A*02:01</td>\n",
       "      <td>VVKNDPEL</td>\n",
       "      <td>0.0015740</td>\n",
       "      <td>14.932</td>\n",
       "      <td>0.00000</td>\n",
       "      <td>0.0</td>\n",
       "    </tr>\n",
       "  </tbody>\n",
       "</table>\n",
       "</div>"
      ]
     },
     "execution_count": 6,
     "metadata": {},
     "output_type": "execute_result"
    }
   ],
   "execution_count": 6
  },
  {
   "metadata": {},
   "cell_type": "markdown",
   "source": "### CD8 benchmark load and evaluation",
   "id": "ac7690dfb3e9dcfe"
  },
  {
   "metadata": {
    "ExecuteTime": {
     "end_time": "2024-06-12T08:39:01.923451Z",
     "start_time": "2024-06-12T08:38:44.234787Z"
    }
   },
   "cell_type": "code",
   "source": [
    "cd8_netmhcpan_df = pd.read_csv(out_merged_netmhcpan_cd8_benchmark_file)\n",
    "cd8_netmhcpan_df.head()"
   ],
   "id": "c48db55b362c3aac",
   "outputs": [
    {
     "data": {
      "text/plain": [
       "           MHC   Peptide  Score_EL  %Rank_EL  Exp  BindLevel\n",
       "0  HLA-A*02:01  MSHVVVKN  0.000003    87.500  0.0        0.0\n",
       "1  HLA-A*02:01  SHVVVKND  0.000000   100.000  0.0        0.0\n",
       "2  HLA-A*02:01  HVVVKNDP  0.000007    78.333  0.0        0.0\n",
       "3  HLA-A*02:01  VVVKNDPE  0.000012    71.250  0.0        0.0\n",
       "4  HLA-A*02:01  VVKNDPEL  0.001574    14.932  0.0        0.0"
      ],
      "text/html": [
       "<div>\n",
       "<style scoped>\n",
       "    .dataframe tbody tr th:only-of-type {\n",
       "        vertical-align: middle;\n",
       "    }\n",
       "\n",
       "    .dataframe tbody tr th {\n",
       "        vertical-align: top;\n",
       "    }\n",
       "\n",
       "    .dataframe thead th {\n",
       "        text-align: right;\n",
       "    }\n",
       "</style>\n",
       "<table border=\"1\" class=\"dataframe\">\n",
       "  <thead>\n",
       "    <tr style=\"text-align: right;\">\n",
       "      <th></th>\n",
       "      <th>MHC</th>\n",
       "      <th>Peptide</th>\n",
       "      <th>Score_EL</th>\n",
       "      <th>%Rank_EL</th>\n",
       "      <th>Exp</th>\n",
       "      <th>BindLevel</th>\n",
       "    </tr>\n",
       "  </thead>\n",
       "  <tbody>\n",
       "    <tr>\n",
       "      <th>0</th>\n",
       "      <td>HLA-A*02:01</td>\n",
       "      <td>MSHVVVKN</td>\n",
       "      <td>0.000003</td>\n",
       "      <td>87.500</td>\n",
       "      <td>0.0</td>\n",
       "      <td>0.0</td>\n",
       "    </tr>\n",
       "    <tr>\n",
       "      <th>1</th>\n",
       "      <td>HLA-A*02:01</td>\n",
       "      <td>SHVVVKND</td>\n",
       "      <td>0.000000</td>\n",
       "      <td>100.000</td>\n",
       "      <td>0.0</td>\n",
       "      <td>0.0</td>\n",
       "    </tr>\n",
       "    <tr>\n",
       "      <th>2</th>\n",
       "      <td>HLA-A*02:01</td>\n",
       "      <td>HVVVKNDP</td>\n",
       "      <td>0.000007</td>\n",
       "      <td>78.333</td>\n",
       "      <td>0.0</td>\n",
       "      <td>0.0</td>\n",
       "    </tr>\n",
       "    <tr>\n",
       "      <th>3</th>\n",
       "      <td>HLA-A*02:01</td>\n",
       "      <td>VVVKNDPE</td>\n",
       "      <td>0.000012</td>\n",
       "      <td>71.250</td>\n",
       "      <td>0.0</td>\n",
       "      <td>0.0</td>\n",
       "    </tr>\n",
       "    <tr>\n",
       "      <th>4</th>\n",
       "      <td>HLA-A*02:01</td>\n",
       "      <td>VVKNDPEL</td>\n",
       "      <td>0.001574</td>\n",
       "      <td>14.932</td>\n",
       "      <td>0.0</td>\n",
       "      <td>0.0</td>\n",
       "    </tr>\n",
       "  </tbody>\n",
       "</table>\n",
       "</div>"
      ]
     },
     "execution_count": 3,
     "metadata": {},
     "output_type": "execute_result"
    }
   ],
   "execution_count": 3
  },
  {
   "metadata": {
    "ExecuteTime": {
     "end_time": "2024-06-12T08:34:53.552066Z",
     "start_time": "2024-06-12T08:34:42.417478Z"
    }
   },
   "cell_type": "code",
   "source": [
    "# compute roc auc\n",
    "from sklearn.metrics import roc_auc_score\n",
    "roc_auc_score(cd8_netmhcpan_df['Exp'], cd8_netmhcpan_df['Score_EL'])"
   ],
   "id": "4d845cb3d7abf9d",
   "outputs": [
    {
     "data": {
      "text/plain": [
       "0.9889863702709146"
      ]
     },
     "execution_count": 4,
     "metadata": {},
     "output_type": "execute_result"
    }
   ],
   "execution_count": 4
  },
  {
   "metadata": {
    "ExecuteTime": {
     "end_time": "2024-06-12T08:39:16.491911Z",
     "start_time": "2024-06-12T08:39:01.926350Z"
    }
   },
   "cell_type": "code",
   "source": [
    "# compute confusion matrix\n",
    "from sklearn.metrics import confusion_matrix\n",
    "cm_rank_swb = confusion_matrix(\n",
    "    cd8_netmhcpan_df['Exp'],\n",
    "    cd8_netmhcpan_df['BindLevel'] > 0.4  # 0.4 is the threshold to include WB and SB\n",
    ")\n",
    "cm_rank_swb"
   ],
   "id": "41b36e47be7d078d",
   "outputs": [
    {
     "data": {
      "text/plain": [
       "array([[11043594,   163065],\n",
       "       [     314,     1267]])"
      ]
     },
     "execution_count": 4,
     "metadata": {},
     "output_type": "execute_result"
    }
   ],
   "execution_count": 4
  },
  {
   "metadata": {
    "ExecuteTime": {
     "end_time": "2024-06-12T08:39:30.265327Z",
     "start_time": "2024-06-12T08:39:16.494010Z"
    }
   },
   "cell_type": "code",
   "source": [
    "cm_rank_sb = confusion_matrix(\n",
    "    cd8_netmhcpan_df['Exp'],\n",
    "    cd8_netmhcpan_df['BindLevel'] > 0.6 # 0.6 is the threshold to NOT include WB (SB only)\n",
    ")\n",
    "cm_rank_sb"
   ],
   "id": "6d94f89a29384b3e",
   "outputs": [
    {
     "data": {
      "text/plain": [
       "array([[11167109,    39550],\n",
       "       [     677,      904]])"
      ]
     },
     "execution_count": 5,
     "metadata": {},
     "output_type": "execute_result"
    }
   ],
   "execution_count": 5
  },
  {
   "metadata": {
    "ExecuteTime": {
     "end_time": "2024-06-12T08:39:42.612905Z",
     "start_time": "2024-06-12T08:39:30.269240Z"
    }
   },
   "cell_type": "code",
   "source": [
    "cm_el_score = confusion_matrix(\n",
    "    cd8_netmhcpan_df['Exp'],\n",
    "    cd8_netmhcpan_df['Score_EL'] > 0.5\n",
    ")\n",
    "cm_el_score"
   ],
   "id": "a27101a5355eb3fe",
   "outputs": [
    {
     "data": {
      "text/plain": [
       "array([[11177308,    29351],\n",
       "       [     791,      790]])"
      ]
     },
     "execution_count": 6,
     "metadata": {},
     "output_type": "execute_result"
    }
   ],
   "execution_count": 6
  },
  {
   "metadata": {
    "ExecuteTime": {
     "end_time": "2024-06-12T08:46:44.200479Z",
     "start_time": "2024-06-12T08:46:43.840518Z"
    }
   },
   "cell_type": "code",
   "source": [
    "# plot the three confusion matrices\n",
    "import matplotlib.pyplot as plt\n",
    "import seaborn as sns\n",
    "\n",
    "fig, axs = plt.subplots(1, 3, figsize=(18, 6))\n",
    "sns.heatmap(cm_el_score, annot=True, fmt='d', ax=axs[2], cmap='Blues')\n",
    "axs[0].set_title('EL Score > 0.5')\n",
    "sns.heatmap(cm_rank_sb, annot=True, fmt='d', ax=axs[1], cmap='Blues')\n",
    "axs[1].set_title('Rank only SB (% Rank < Top 0.5 %)')\n",
    "sns.heatmap(cm_rank_swb, annot=True, fmt='d', ax=axs[0], cmap='Blues')\n",
    "axs[2].set_title('Rank SB and WB (% Rank < Top 2 %)')\n",
    "\n",
    "for i in range(3):\n",
    "    axs[i].set_xlabel('Predicted label')\n",
    "    axs[i].set_ylabel('True label')\n",
    "\n",
    "plt.show()"
   ],
   "id": "878331998b81819c",
   "outputs": [
    {
     "data": {
      "text/plain": [
       "<Figure size 1800x600 with 6 Axes>"
      ],
      "image/png": "[encoded data removed]"
     },
     "metadata": {},
     "output_type": "display_data"
    }
   ],
   "execution_count": 15
  },
  {
   "metadata": {},
   "cell_type": "code",
   "outputs": [],
   "execution_count": null,
   "source": "",
   "id": "76f5fa7cdddc7c42"
  }
 ],
 "metadata": {
  "kernelspec": {
   "display_name": "Python 3",
   "language": "python",
   "name": "python3"
  },
  "language_info": {
   "codemirror_mode": {
    "name": "ipython",
    "version": 2
   },
   "file_extension": ".py",
   "mimetype": "text/x-python",
   "name": "python",
   "nbconvert_exporter": "python",
   "pygments_lexer": "ipython2",
   "version": "2.7.6"
  }
 },
 "nbformat": 4,
 "nbformat_minor": 5
}
