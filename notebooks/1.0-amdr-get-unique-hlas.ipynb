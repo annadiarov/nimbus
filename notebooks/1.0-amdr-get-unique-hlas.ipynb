{
 "cells": [
  {
   "cell_type": "markdown",
   "source": [
    "# Get unique HLAs alleles\n",
    "\n",
    "This notebook looks for all HLA alleles in the dataset and returns a list of unique alleles.\n",
    "From the list of unique alleles, we generate fasta files with the sequences of the alleles to be used for AlphaFold2\n",
    "\n",
    "Current datasets included:\n",
    "- data/raw/pHLA_binding/NetMHCpan_train/allelelist                  # NetMHCpan alleles in the training set\n",
    "- data/raw/pHLA_binding/CD8_benchmark_filtered/* (using filenames)  # NetMHCpan validation\n",
    "- data/raw/pHLA_binding/train_2023_MixMHCpred2.2.txt                # MixMHCpred2.2 training set\n",
    "- data/raw/pHLA_binding/val_2023_MixMHCpred2.2/*                    # MixMHCpred2.2 validation set\n",
    "- data/raw/pHLA_stability/Stability.data                            # Stability training dataset\n",
    "\n",
    "Datasets to be included:\n",
    "- data/raw/TCell_recognition/train_2020_PRIME1.0.csv                # PRIME1.0 training dataset\n",
    "- data/raw/TCell_recognition/train_2023_PRIME2.0.csv                # PRIME2.0 training dataset\n",
    "- data/raw/neoantigen_immunogenicity/HLA_allotypes.txt              # Muller et al. alleles for training and validation"
   ],
   "metadata": {
    "collapsed": false
   },
   "id": "a1f3e54bcfba8744"
  },
  {
   "cell_type": "code",
   "outputs": [],
   "source": [
    "import os\n",
    "import re\n",
    "import glob\n",
    "\n",
    "w_dir = '..'\n",
    "\n",
    "all_alleles_file = os.path.join(w_dir, 'data/processed/all_hla_seq_binding_groove.fasta')\n",
    "\n",
    "netmhcpan_train_alleles_file = os.path.join(w_dir, 'data/raw/pHLA_binding/NetMHCpan_train/allelelist')\n",
    "netmhcpan_val_alleles_files = glob.glob(os.path.join(w_dir, 'data/raw/pHLA_binding/CD8_benchmark_filtered/*'))\n",
    "mixmhcpred_train_alleles_file = os.path.join(w_dir, 'data/raw/pHLA_binding/train_2023_MixMHCpred2.2.txt')\n",
    "mixmhcpred_val_alleles_file = os.path.join(w_dir, 'data/raw/pHLA_binding/val_2023_MixMHCpred2.2_alleles_by_file.tsv')\n",
    "stability_alleles_file = os.path.join(w_dir, 'data/raw/pHLA_stability/Stability.data')"
   ],
   "metadata": {
    "collapsed": false,
    "ExecuteTime": {
     "end_time": "2024-03-26T10:39:51.369635353Z",
     "start_time": "2024-03-26T10:39:51.354558975Z"
    }
   },
   "id": "21089b692ff629df",
   "execution_count": 1
  },
  {
   "cell_type": "code",
   "outputs": [],
   "source": [
    "def standardize_hla_class_1_name(hla_name: str) -> str:\n",
    "    \"\"\"\n",
    "    Standardize HLA names to the format HLA*<gene>*<serogroup>:<Missense variants>\n",
    "    If the name is not a valid HLA class 1 name, it returns None\n",
    "    Examples covered:\n",
    "        'HLA-A01:01' -> 'HLA-A*01:01'\n",
    "        'A*01:01:01:01' -> 'HLA-A*01:01'\n",
    "    :param hla_name: str\n",
    "        HLA name to be standardized\n",
    "    :return: str\n",
    "        Standardized HLA name\n",
    "    \"\"\"\n",
    "    hla_no_gene_separator_regex = re.compile(r'HLA-[ABC]\\d{2}:\\d{2}')  # HLA-A01:01\n",
    "    hla_no_hla_regex = re.compile(r'[ABC]\\*\\d{2}:\\d{2}')  # A*01:01:01:01\n",
    "    hla_no_hla_no_sep_regex = re.compile(r'[ABC]\\d{2}\\d{2}')  # A0101\n",
    "    hla_class2_regex = re.compile(r'[DPQR]{2}.+\\*\\d{2,4}:\\d{2}')  # DPA1*01:03:01:01\n",
    "    hla_nk_regex = re.compile(r'HLA-[EG]\\d{2}:\\d{2}')  # HLA-E01:01\n",
    "    hla_nk_no_hla_no_sep_regex = re.compile(r'[EG]\\d{2}\\d{2}')  # E0101\n",
    "    expected_hla_regex = re.compile(r'HLA-[ABC]\\*\\d{2}:\\d{2}')  # HLA-A*01:01\n",
    "    \n",
    "    if expected_hla_regex.match(hla_name):\n",
    "        return hla_name[0:11]\n",
    "    elif hla_no_gene_separator_regex.match(hla_name):\n",
    "        hla_with_separator = hla_name[0:5] + '*' + hla_name[5:]\n",
    "        return hla_with_separator\n",
    "    elif hla_no_hla_regex.match(hla_name):\n",
    "        gene = hla_name[0]\n",
    "        serogroup = hla_name[2:4]\n",
    "        missense_variants = hla_name[5:7]\n",
    "        return f'HLA-{gene}*{serogroup}:{missense_variants}'\n",
    "    elif hla_no_hla_no_sep_regex.match(hla_name):\n",
    "        gene = hla_name[0]\n",
    "        serogroup = hla_name[1:3]\n",
    "        missense_variants = hla_name[3:5]\n",
    "        return f'HLA-{gene}*{serogroup}:{missense_variants}'\n",
    "    elif hla_class2_regex.match(hla_name):\n",
    "        return None\n",
    "    elif hla_nk_regex.match(hla_name) or hla_nk_no_hla_no_sep_regex.match(hla_name):\n",
    "        return None\n",
    "    else:\n",
    "        raise NotImplementedError(f'HLA name {hla_name} does not follow the expected pattern')\n",
    "    \n",
    "    \n",
    "def read_netmhcpan_allelelist(file_path: str, filter_by_hla: bool = True) -> set:\n",
    "    \"\"\"\n",
    "    Reads a file with a list of alleles and returns a set of unique alleles.\n",
    "    File format:\n",
    "        A19-A19\tBoLA-6:01402,BoLA-2:01601\n",
    "        A20-A20\tBoLA-3:02701,BoLA-2:02601\n",
    "        Apher1\tHLA-A03:01,HLA-A29:02,HLA-B44:02,HLA-B44:03,HLA-C12:03,HLA-C16:01\n",
    "        Apher6\tHLA-A02:01,HLA-A03:01,HLA-B07:02,HLA-C07:02\n",
    "    :param file_path: str\n",
    "        String with the path to the file\n",
    "    :param filter_by_hla: bool\n",
    "        If True, only HLA alleles are returned \n",
    "    :return:\n",
    "        Set with allele names\n",
    "    \"\"\"\n",
    "    alleles = set()\n",
    "    with open(file_path, 'r') as f:\n",
    "        for l in f.readlines():\n",
    "            alleles_list = l.split()[1].split(',')\n",
    "            for a in alleles_list:\n",
    "                if filter_by_hla and a.startswith('HLA'):\n",
    "                    alleles.add(standardize_hla_class_1_name(a))\n",
    "                elif not filter_by_hla:\n",
    "                    alleles.add(standardize_hla_class_1_name(a))\n",
    "    return alleles\n",
    "\n",
    "def get_alleles_from_netmhcpan_val_files(files: list) -> set:\n",
    "    \"\"\"\n",
    "    Get the alleles from the filenames of the NetMHCpan validation files\n",
    "    Examples of filenames:\n",
    "        'CD8_benchmark_filtered/CEDVPSGKL_HLA-B40:01'\n",
    "        'CD8_benchmark_filtered/CEDVPSGKL_HLA-B40:01_1' # Skipped\n",
    "    :param files: list\n",
    "        List of filepaths\n",
    "    :return: \n",
    "        Set with allele names\n",
    "    \"\"\"\n",
    "    alleles = set()\n",
    "    for f in files:\n",
    "        allele_str = f.split('_')[-1]\n",
    "        if len(allele_str) > 1:\n",
    "            alleles.add(standardize_hla_class_1_name(allele_str))\n",
    "    return alleles\n",
    "\n",
    "def read_train_mixmhcpred_alleles(file_path: str) -> set:\n",
    "    \"\"\"\n",
    "    Reads a file with a list of alleles and returns a set of unique alleles.\n",
    "    File format:\n",
    "        Peptide\tAllele\n",
    "        AAAHTHRY\tA0101\n",
    "        ADMGHLKY\tA0101\n",
    "    :param file_path: str\n",
    "        String with the path to the file\n",
    "    :return:\n",
    "        Set with allele names\n",
    "    \"\"\"\n",
    "    alleles = set()\n",
    "    with open(file_path, 'r') as f:\n",
    "        for l in f.readlines()[1:]: # Skip header\n",
    "            alleles.add(standardize_hla_class_1_name(l.split()[1]))\n",
    "    return alleles\n",
    "\n",
    "def read_val_mixmhcpred_alleles(file_path: str) -> set:\n",
    "    \"\"\"\n",
    "    Reads a file with a list of alleles and returns a set of unique alleles.\n",
    "    File format:\n",
    "         Filename\tHLAs\n",
    "         3779-AMM_I.csv\tA0201,B3503,B3508,C0401\n",
    "         3795-BMT_I.csv\tA0201,A2601,B0702,B3901,C0702,C1203\n",
    "    :param file_path: str\n",
    "        String with the path to the file\n",
    "    :return:    \n",
    "        Set with allele names\n",
    "    \"\"\"\n",
    "    alleles = set()\n",
    "    with open(file_path, 'r') as f:\n",
    "        for l in f.readlines()[1:]: # Skip header\n",
    "            alleles_list = l.split()[1].split(',')\n",
    "            for a in alleles_list:\n",
    "                alleles.add(standardize_hla_class_1_name(a))\n",
    "    return alleles\n",
    "\n",
    "def read_stability_alleles(file_path: str) -> set:\n",
    "    alleles = set()\n",
    "    with open(file_path, 'r') as f:\n",
    "        for l in f.readlines()[1:]: # Skip header\n",
    "            alleles.add(standardize_hla_class_1_name(l.split()[0]))\n",
    "    return alleles\n",
    "    \n",
    "def read_hla_fasta(file_path: str) -> dict:\n",
    "    \"\"\"\n",
    "    Reads a fasta file with HLA alleles and returns a dictionary with the allele name as key and the sequence as value.\n",
    "    \n",
    "    Sample fasta:\n",
    "        >HLA:HLA00001 A*01:01:01:01 365 bp\n",
    "        GSHSMRYFFTSVSRPGRGEPRFIAVGYV...AEQRRVYLEGRCVDGLRRYLENGKETLQR\n",
    "        >HLA:HLA00002 A*01:01:01:02 365 bp\n",
    "        ...\n",
    "        \n",
    "    :param file_path: str\n",
    "        String with the path to the file\n",
    "    :return:\n",
    "        Dictionary with allele names and sequences\n",
    "    \"\"\"\n",
    "    alleles = {}\n",
    "    with open(file_path, 'r') as f:\n",
    "        allele = ''\n",
    "        seq = ''\n",
    "        for l in f.readlines():\n",
    "            if l.startswith('>'):\n",
    "                allele = standardize_hla_class_1_name(l.split()[1])\n",
    "                if allele is not None and allele in alleles:\n",
    "                    allele = None # Skip allele if it is already in the dictionary\n",
    "                    #raise ValueError(f'Allele {allele} already in dictionary')    \n",
    "                seq = ''\n",
    "            else:\n",
    "                if allele is None:\n",
    "                    allele = ''\n",
    "                    continue\n",
    "                seq += l.strip()\n",
    "                alleles[allele] = seq\n",
    "                allele = ''  # Reset allele since all sequences are in the same line\n",
    "                \n",
    "    return alleles"
   ],
   "metadata": {
    "collapsed": false,
    "ExecuteTime": {
     "end_time": "2024-03-26T10:39:51.452272382Z",
     "start_time": "2024-03-26T10:39:51.383893884Z"
    }
   },
   "id": "b7e51b89462805c5",
   "execution_count": 2
  },
  {
   "cell_type": "code",
   "outputs": [],
   "source": [
    "all_seqs_dict = read_hla_fasta(all_alleles_file)"
   ],
   "metadata": {
    "collapsed": false,
    "ExecuteTime": {
     "end_time": "2024-03-26T10:39:51.694629515Z",
     "start_time": "2024-03-26T10:39:51.415110650Z"
    }
   },
   "id": "3d27c1af6483d704",
   "execution_count": 3
  },
  {
   "cell_type": "code",
   "outputs": [],
   "source": [
    "stability_alleles = read_stability_alleles(stability_alleles_file)"
   ],
   "metadata": {
    "collapsed": false,
    "ExecuteTime": {
     "end_time": "2024-03-26T10:39:51.906233764Z",
     "start_time": "2024-03-26T10:39:51.735949323Z"
    }
   },
   "id": "d328e7d9db32f5ea",
   "execution_count": 4
  },
  {
   "cell_type": "code",
   "outputs": [],
   "source": [
    "netmhcpan_train_alleles = read_netmhcpan_allelelist(netmhcpan_train_alleles_file)\n",
    "netmhcpan_val_alleles = get_alleles_from_netmhcpan_val_files(netmhcpan_val_alleles_files)"
   ],
   "metadata": {
    "collapsed": false,
    "ExecuteTime": {
     "end_time": "2024-03-26T10:39:51.970732532Z",
     "start_time": "2024-03-26T10:39:51.909819975Z"
    }
   },
   "id": "de6127997726fc63",
   "execution_count": 5
  },
  {
   "cell_type": "code",
   "outputs": [],
   "source": [
    "mixmhcpred_train_alleles = read_train_mixmhcpred_alleles(mixmhcpred_train_alleles_file)\n",
    "mixmhcpred_val_alleles = read_val_mixmhcpred_alleles(mixmhcpred_val_alleles_file)"
   ],
   "metadata": {
    "collapsed": false,
    "ExecuteTime": {
     "end_time": "2024-03-26T10:39:54.822641518Z",
     "start_time": "2024-03-26T10:39:51.951919520Z"
    }
   },
   "id": "169e9fdb960cbaf5",
   "execution_count": 6
  },
  {
   "cell_type": "code",
   "outputs": [],
   "source": [],
   "metadata": {
    "collapsed": false,
    "ExecuteTime": {
     "end_time": "2024-03-26T10:39:54.827173159Z",
     "start_time": "2024-03-26T10:39:54.824883164Z"
    }
   },
   "id": "22f817964bd1ac9b",
   "execution_count": 6
  },
  {
   "cell_type": "markdown",
   "source": [
    "## Make fasta files"
   ],
   "metadata": {
    "collapsed": false
   },
   "id": "c3cee60ab6c3cede"
  },
  {
   "cell_type": "code",
   "outputs": [
    {
     "data": {
      "text/plain": "187"
     },
     "execution_count": 7,
     "metadata": {},
     "output_type": "execute_result"
    }
   ],
   "source": [
    "done_alleles_in_datasets = set(list(netmhcpan_train_alleles) + list(stability_alleles))\n",
    "\n",
    "all_alleles_in_datasets = set(list(netmhcpan_train_alleles) + list(stability_alleles) + list(netmhcpan_val_alleles) + list(mixmhcpred_train_alleles) + list(mixmhcpred_val_alleles))\n",
    "len(all_alleles_in_datasets)"
   ],
   "metadata": {
    "collapsed": false,
    "ExecuteTime": {
     "end_time": "2024-03-26T10:39:54.894920487Z",
     "start_time": "2024-03-26T10:39:54.828938211Z"
    }
   },
   "id": "9bdd9685e6d9f41c",
   "execution_count": 7
  },
  {
   "cell_type": "code",
   "outputs": [
    {
     "name": "stdout",
     "output_type": "stream",
     "text": [
      "None not found\n"
     ]
    }
   ],
   "source": [
    "fasta_files_output_dir = os.path.join(w_dir, 'data/processed/hla_seq_binding_groove')\n",
    "os.makedirs(fasta_files_output_dir, exist_ok=True)\n",
    "for allele in all_alleles_in_datasets:\n",
    "    if allele in all_seqs_dict:\n",
    "        with open(os.path.join(fasta_files_output_dir, f'{allele}.fasta'), 'w') as f:\n",
    "            f.write(f'>{allele}\\n{all_seqs_dict[allele]}\\n')\n",
    "    else:\n",
    "        print(f'{allele} not found')"
   ],
   "metadata": {
    "collapsed": false,
    "ExecuteTime": {
     "end_time": "2024-03-26T10:39:54.929562167Z",
     "start_time": "2024-03-26T10:39:54.852376493Z"
    }
   },
   "id": "7e562c2a5cd4c63a",
   "execution_count": 8
  },
  {
   "cell_type": "code",
   "outputs": [
    {
     "data": {
      "text/plain": "{'HLA-A*34:01',\n 'HLA-A*34:02',\n 'HLA-A*36:01',\n 'HLA-B*07:04',\n 'HLA-B*18:05',\n 'HLA-B*35:07',\n 'HLA-B*38:02',\n 'HLA-B*40:06',\n 'HLA-B*40:32',\n 'HLA-C*03:02',\n 'HLA-C*04:03',\n 'HLA-C*14:03',\n 'HLA-C*16:02'}"
     },
     "execution_count": 9,
     "metadata": {},
     "output_type": "execute_result"
    }
   ],
   "source": [
    "all_alleles_in_datasets - done_alleles_in_datasets"
   ],
   "metadata": {
    "collapsed": false,
    "ExecuteTime": {
     "end_time": "2024-03-26T11:00:11.279416101Z",
     "start_time": "2024-03-26T11:00:11.266835036Z"
    }
   },
   "id": "c7dd6bbc33a7cef5",
   "execution_count": 9
  },
  {
   "cell_type": "code",
   "outputs": [],
   "source": [],
   "metadata": {
    "collapsed": false
   },
   "id": "78c3929ddd74bea3",
   "execution_count": null
  }
 ],
 "metadata": {
  "kernelspec": {
   "display_name": "Python 3",
   "language": "python",
   "name": "python3"
  },
  "language_info": {
   "codemirror_mode": {
    "name": "ipython",
    "version": 2
   },
   "file_extension": ".py",
   "mimetype": "text/x-python",
   "name": "python",
   "nbconvert_exporter": "python",
   "pygments_lexer": "ipython2",
   "version": "2.7.6"
  }
 },
 "nbformat": 4,
 "nbformat_minor": 5
}
